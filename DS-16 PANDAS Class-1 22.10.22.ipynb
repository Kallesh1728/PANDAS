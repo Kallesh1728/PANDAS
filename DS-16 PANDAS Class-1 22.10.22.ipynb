{
 "cells": [
  {
   "cell_type": "markdown",
   "id": "287ff99a",
   "metadata": {},
   "source": [
    "# PANDAS"
   ]
  },
  {
   "cell_type": "markdown",
   "id": "4169ac86",
   "metadata": {},
   "source": [
    "PANDAS -DATA ANALYSIS LIBRARY"
   ]
  },
  {
   "cell_type": "markdown",
   "id": "127c569f",
   "metadata": {},
   "source": [
    "PANDAS is used for data analysis purposes"
   ]
  },
  {
   "cell_type": "raw",
   "id": "82bc8656",
   "metadata": {},
   "source": [
    "PANDAS data structure ----1.series   ...>i vector/1 Dimenstional data 2.Dataframe...>2vector/2 dimentional "
   ]
  },
  {
   "cell_type": "code",
   "execution_count": 5,
   "id": "c6d2b372",
   "metadata": {},
   "outputs": [],
   "source": [
    "#pd.Series?"
   ]
  },
  {
   "cell_type": "code",
   "execution_count": 23,
   "id": "70f5a0a3",
   "metadata": {},
   "outputs": [],
   "source": [
    "#help(pd.Series)"
   ]
  },
  {
   "cell_type": "code",
   "execution_count": 1,
   "id": "aad0329d",
   "metadata": {},
   "outputs": [],
   "source": [
    "import pandas as pd "
   ]
  },
  {
   "cell_type": "code",
   "execution_count": 2,
   "id": "6898694a",
   "metadata": {},
   "outputs": [
    {
     "data": {
      "text/plain": [
       "0    1\n",
       "1    2\n",
       "2    3\n",
       "3    4\n",
       "dtype: int64"
      ]
     },
     "execution_count": 2,
     "metadata": {},
     "output_type": "execute_result"
    }
   ],
   "source": [
    "pd.Series([1,2,3,4])"
   ]
  },
  {
   "cell_type": "raw",
   "id": "70c85d14",
   "metadata": {},
   "source": [
    "Numpy - work only with numbers -1 int 2. float data numpy is homogeneous data \n",
    "pandas- work with multiple diferent types of data , pandas is  heterogeneous data"
   ]
  },
  {
   "cell_type": "raw",
   "id": "230847d0",
   "metadata": {},
   "source": [
    "pd.Series(data=, index)\n",
    "\n",
    "index will take defult o, 1,2,3 2nd column is the data"
   ]
  },
  {
   "cell_type": "code",
   "execution_count": 6,
   "id": "3557c668",
   "metadata": {},
   "outputs": [
    {
     "data": {
      "text/plain": [
       "0    10\n",
       "1    20\n",
       "2    30\n",
       "3    40\n",
       "4    50\n",
       "5    60\n",
       "dtype: int64"
      ]
     },
     "execution_count": 6,
     "metadata": {},
     "output_type": "execute_result"
    }
   ],
   "source": [
    "pd.Series([10,20,30,40,50,60])"
   ]
  },
  {
   "cell_type": "code",
   "execution_count": 24,
   "id": "782759bc",
   "metadata": {},
   "outputs": [],
   "source": [
    "# accessing the data frame Series\n",
    "y=pd.Series([10,20,30,40,50,60])"
   ]
  },
  {
   "cell_type": "code",
   "execution_count": 25,
   "id": "45e8ee55",
   "metadata": {},
   "outputs": [
    {
     "data": {
      "text/plain": [
       "0    10\n",
       "1    20\n",
       "2    30\n",
       "3    40\n",
       "4    50\n",
       "5    60\n",
       "dtype: int64"
      ]
     },
     "execution_count": 25,
     "metadata": {},
     "output_type": "execute_result"
    }
   ],
   "source": [
    "y"
   ]
  },
  {
   "cell_type": "code",
   "execution_count": 26,
   "id": "7cef8f9e",
   "metadata": {},
   "outputs": [
    {
     "data": {
      "text/plain": [
       "10"
      ]
     },
     "execution_count": 26,
     "metadata": {},
     "output_type": "execute_result"
    }
   ],
   "source": [
    "# here it is finding the what is the element in zeroth position , 1st & 2nd\n",
    "y[0]"
   ]
  },
  {
   "cell_type": "code",
   "execution_count": 27,
   "id": "f371001b",
   "metadata": {},
   "outputs": [
    {
     "data": {
      "text/plain": [
       "20"
      ]
     },
     "execution_count": 27,
     "metadata": {},
     "output_type": "execute_result"
    }
   ],
   "source": [
    "# these are all index\n",
    "y[1]"
   ]
  },
  {
   "cell_type": "code",
   "execution_count": 28,
   "id": "a2232a71",
   "metadata": {},
   "outputs": [
    {
     "data": {
      "text/plain": [
       "30"
      ]
     },
     "execution_count": 28,
     "metadata": {},
     "output_type": "execute_result"
    }
   ],
   "source": [
    "y[2]"
   ]
  },
  {
   "cell_type": "code",
   "execution_count": 35,
   "id": "f6ee104e",
   "metadata": {},
   "outputs": [
    {
     "data": {
      "text/plain": [
       "0    10\n",
       "1    20\n",
       "2    30\n",
       "dtype: int64"
      ]
     },
     "execution_count": 35,
     "metadata": {},
     "output_type": "execute_result"
    }
   ],
   "source": [
    "# Slicing -finding values start from o and end 3\n",
    "y[0:3]"
   ]
  },
  {
   "cell_type": "raw",
   "id": "01499d96",
   "metadata": {},
   "source": [
    "dtype=int64,  64bit/8=8bytes"
   ]
  },
  {
   "cell_type": "code",
   "execution_count": 7,
   "id": "7dfc7953",
   "metadata": {},
   "outputs": [
    {
     "data": {
      "text/plain": [
       "11    100\n",
       "12    200\n",
       "13    300\n",
       "14    400\n",
       "dtype: int64"
      ]
     },
     "execution_count": 7,
     "metadata": {},
     "output_type": "execute_result"
    }
   ],
   "source": [
    "pd.Series(data=[100,200,300,400],index=[11,12,13,14])"
   ]
  },
  {
   "cell_type": "raw",
   "id": "06ac5bf2",
   "metadata": {},
   "source": [
    "i can hold this data in variable x"
   ]
  },
  {
   "cell_type": "code",
   "execution_count": 29,
   "id": "b27daf72",
   "metadata": {},
   "outputs": [],
   "source": [
    "x=pd.Series(data=[100,200,300,400],index=[11,12,13,14])"
   ]
  },
  {
   "cell_type": "code",
   "execution_count": 30,
   "id": "839741cd",
   "metadata": {},
   "outputs": [
    {
     "data": {
      "text/plain": [
       "11    100\n",
       "12    200\n",
       "13    300\n",
       "14    400\n",
       "dtype: int64"
      ]
     },
     "execution_count": 30,
     "metadata": {},
     "output_type": "execute_result"
    }
   ],
   "source": [
    "x"
   ]
  },
  {
   "cell_type": "code",
   "execution_count": 31,
   "id": "31dc89f6",
   "metadata": {},
   "outputs": [
    {
     "data": {
      "text/plain": [
       "100"
      ]
     },
     "execution_count": 31,
     "metadata": {},
     "output_type": "execute_result"
    }
   ],
   "source": [
    "# the index value will staring from 11 in that case we will enter 11\n",
    "x[11]"
   ]
  },
  {
   "cell_type": "code",
   "execution_count": 32,
   "id": "b3170423",
   "metadata": {},
   "outputs": [
    {
     "data": {
      "text/plain": [
       "200"
      ]
     },
     "execution_count": 32,
     "metadata": {},
     "output_type": "execute_result"
    }
   ],
   "source": [
    "x[12]"
   ]
  },
  {
   "cell_type": "code",
   "execution_count": 33,
   "id": "9ab2b2f4",
   "metadata": {},
   "outputs": [
    {
     "data": {
      "text/plain": [
       "300"
      ]
     },
     "execution_count": 33,
     "metadata": {},
     "output_type": "execute_result"
    }
   ],
   "source": [
    "x[13]"
   ]
  },
  {
   "cell_type": "code",
   "execution_count": 8,
   "id": "3d4b9262",
   "metadata": {},
   "outputs": [],
   "source": [
    "import numpy as np\n",
    "a=np.array([45,55,60,65,75,85])"
   ]
  },
  {
   "cell_type": "code",
   "execution_count": 9,
   "id": "07f78291",
   "metadata": {},
   "outputs": [
    {
     "data": {
      "text/plain": [
       "array([45, 55, 60, 65, 75, 85])"
      ]
     },
     "execution_count": 9,
     "metadata": {},
     "output_type": "execute_result"
    }
   ],
   "source": [
    "a"
   ]
  },
  {
   "cell_type": "code",
   "execution_count": 11,
   "id": "4dd690f9",
   "metadata": {},
   "outputs": [
    {
     "data": {
      "text/plain": [
       "0    45\n",
       "1    55\n",
       "2    60\n",
       "3    65\n",
       "4    75\n",
       "5    85\n",
       "dtype: int32"
      ]
     },
     "execution_count": 11,
     "metadata": {},
     "output_type": "execute_result"
    }
   ],
   "source": [
    "pd.Series(a)"
   ]
  },
  {
   "cell_type": "code",
   "execution_count": 14,
   "id": "04646596",
   "metadata": {},
   "outputs": [
    {
     "data": {
      "text/plain": [
       "10    45\n",
       "20    55\n",
       "30    60\n",
       "40    65\n",
       "50    75\n",
       "60    85\n",
       "dtype: int64"
      ]
     },
     "execution_count": 14,
     "metadata": {},
     "output_type": "execute_result"
    }
   ],
   "source": [
    "pd.Series(a,index=[10,20,30,40,50,60],dtype='int64')"
   ]
  },
  {
   "cell_type": "code",
   "execution_count": 15,
   "id": "41f2dc8c",
   "metadata": {},
   "outputs": [],
   "source": [
    "dict1={'id':1,'Name':'ABC','Grade':9}"
   ]
  },
  {
   "cell_type": "code",
   "execution_count": 16,
   "id": "b9e546ad",
   "metadata": {},
   "outputs": [
    {
     "data": {
      "text/plain": [
       "{'id': 1, 'Name': 'ABC', 'Grade': 9}"
      ]
     },
     "execution_count": 16,
     "metadata": {},
     "output_type": "execute_result"
    }
   ],
   "source": [
    "dict1"
   ]
  },
  {
   "cell_type": "code",
   "execution_count": 18,
   "id": "7966fe6f",
   "metadata": {},
   "outputs": [
    {
     "data": {
      "text/plain": [
       "id         1\n",
       "Name     ABC\n",
       "Grade      9\n",
       "dtype: object"
      ]
     },
     "execution_count": 18,
     "metadata": {},
     "output_type": "execute_result"
    }
   ],
   "source": [
    "pd.Series(data=dict1)"
   ]
  },
  {
   "cell_type": "raw",
   "id": "c8780606",
   "metadata": {},
   "source": [
    "let the system will take difault value whether it take 64 bit/32 bit"
   ]
  },
  {
   "cell_type": "raw",
   "id": "cc57aa8c",
   "metadata": {},
   "source": [
    "id, name,grade are the index, 1,ABC, 9 are the data"
   ]
  },
  {
   "cell_type": "code",
   "execution_count": 19,
   "id": "b5faad62",
   "metadata": {},
   "outputs": [
    {
     "data": {
      "text/plain": [
       "id         1\n",
       "Name     ABC\n",
       "Grade      9\n",
       "dtype: object"
      ]
     },
     "execution_count": 19,
     "metadata": {},
     "output_type": "execute_result"
    }
   ],
   "source": [
    "pd.Series(dict1)"
   ]
  },
  {
   "cell_type": "raw",
   "id": "557ddb8a",
   "metadata": {},
   "source": [
    "# Series(data,index,dtype) the series will work in that format"
   ]
  },
  {
   "cell_type": "markdown",
   "id": "cbdbf32f",
   "metadata": {},
   "source": [
    "DATA FRAME"
   ]
  },
  {
   "cell_type": "raw",
   "id": "b5117692",
   "metadata": {},
   "source": [
    "Data frame is a two-dimnsional datas tructure, i,e data is aligned in tabular fashion in rows and columns \n",
    "\n",
    "features of DataFrame:\n",
    "Potentially columns are of diffrent types\n",
    "\n",
    "size -Mutable ( I want to extend the columns and rows)\n",
    "\n",
    "Labeled axes (rows and coloumns) -(Heading will be given in the columns Also do it here- 0 th columns is the index)\n",
    "\n",
    "can perform Arithmetic operastions on rows and columns \n",
    "\n",
    "Pandas.DataFrame\n",
    "\n",
    "A Pandas dataFrame can be created using the following constructor-\n",
    "\n",
    "pandas Data frame can be created using the following constructor-\n",
    "\n",
    "pandas.DataFrame(data,index,columns,dtype;copy)"
   ]
  },
  {
   "cell_type": "code",
   "execution_count": 36,
   "id": "5df3a3b6",
   "metadata": {},
   "outputs": [
    {
     "data": {
      "text/html": [
       "<div>\n",
       "<style scoped>\n",
       "    .dataframe tbody tr th:only-of-type {\n",
       "        vertical-align: middle;\n",
       "    }\n",
       "\n",
       "    .dataframe tbody tr th {\n",
       "        vertical-align: top;\n",
       "    }\n",
       "\n",
       "    .dataframe thead th {\n",
       "        text-align: right;\n",
       "    }\n",
       "</style>\n",
       "<table border=\"1\" class=\"dataframe\">\n",
       "  <thead>\n",
       "    <tr style=\"text-align: right;\">\n",
       "      <th></th>\n",
       "      <th>0</th>\n",
       "    </tr>\n",
       "  </thead>\n",
       "  <tbody>\n",
       "    <tr>\n",
       "      <th>0</th>\n",
       "      <td>1</td>\n",
       "    </tr>\n",
       "    <tr>\n",
       "      <th>1</th>\n",
       "      <td>2</td>\n",
       "    </tr>\n",
       "    <tr>\n",
       "      <th>2</th>\n",
       "      <td>3</td>\n",
       "    </tr>\n",
       "    <tr>\n",
       "      <th>3</th>\n",
       "      <td>4</td>\n",
       "    </tr>\n",
       "  </tbody>\n",
       "</table>\n",
       "</div>"
      ],
      "text/plain": [
       "   0\n",
       "0  1\n",
       "1  2\n",
       "2  3\n",
       "3  4"
      ]
     },
     "execution_count": 36,
     "metadata": {},
     "output_type": "execute_result"
    }
   ],
   "source": [
    "#2-D data structure -list like format\n",
    "pd.DataFrame(data=[1,2,3,4])"
   ]
  },
  {
   "cell_type": "code",
   "execution_count": 41,
   "id": "3438738d",
   "metadata": {},
   "outputs": [
    {
     "data": {
      "text/html": [
       "<div>\n",
       "<style scoped>\n",
       "    .dataframe tbody tr th:only-of-type {\n",
       "        vertical-align: middle;\n",
       "    }\n",
       "\n",
       "    .dataframe tbody tr th {\n",
       "        vertical-align: top;\n",
       "    }\n",
       "\n",
       "    .dataframe thead th {\n",
       "        text-align: right;\n",
       "    }\n",
       "</style>\n",
       "<table border=\"1\" class=\"dataframe\">\n",
       "  <thead>\n",
       "    <tr style=\"text-align: right;\">\n",
       "      <th></th>\n",
       "      <th>0</th>\n",
       "      <th>1</th>\n",
       "    </tr>\n",
       "  </thead>\n",
       "  <tbody>\n",
       "    <tr>\n",
       "      <th>0</th>\n",
       "      <td>Alex</td>\n",
       "      <td>10</td>\n",
       "    </tr>\n",
       "    <tr>\n",
       "      <th>1</th>\n",
       "      <td>Bob</td>\n",
       "      <td>12</td>\n",
       "    </tr>\n",
       "    <tr>\n",
       "      <th>2</th>\n",
       "      <td>Clarke</td>\n",
       "      <td>13</td>\n",
       "    </tr>\n",
       "  </tbody>\n",
       "</table>\n",
       "</div>"
      ],
      "text/plain": [
       "        0   1\n",
       "0    Alex  10\n",
       "1     Bob  12\n",
       "2  Clarke  13"
      ]
     },
     "execution_count": 41,
     "metadata": {},
     "output_type": "execute_result"
    }
   ],
   "source": [
    "# list inside the list\n",
    "data=[['Alex',10],['Bob',12],['Clarke',13]]\n",
    "df=pd.DataFrame(data)\n",
    "df"
   ]
  },
  {
   "cell_type": "code",
   "execution_count": 44,
   "id": "ccb84870",
   "metadata": {},
   "outputs": [],
   "source": [
    "#pd.DataFrame?"
   ]
  },
  {
   "cell_type": "code",
   "execution_count": 50,
   "id": "101c08da",
   "metadata": {},
   "outputs": [
    {
     "name": "stdout",
     "output_type": "stream",
     "text": [
      "     Name  Age\n",
      "0    Alex   10\n",
      "1     Bob   12\n",
      "2  Clarke   13\n"
     ]
    }
   ],
   "source": [
    "#row Axis-x0,x1,x2,x3 & also columns axis is -y1,y2,y3, here we change the columns heading as name & age insted 0 ,1\n",
    "data = [['Alex',10],['Bob',12],['Clarke',13]]\n",
    "df = pd.DataFrame(data,columns=['Name','Age'])\n",
    "print (df)\n",
    "\n"
   ]
  },
  {
   "cell_type": "code",
   "execution_count": 53,
   "id": "c5c5eb3d",
   "metadata": {},
   "outputs": [
    {
     "name": "stdout",
     "output_type": "stream",
     "text": [
      "     Name   Age\n",
      "0    Alex  10.0\n",
      "1     Bob  12.0\n",
      "2  Clarke  13.0\n"
     ]
    },
    {
     "name": "stderr",
     "output_type": "stream",
     "text": [
      "C:\\Users\\Spectrum Buildtech\\AppData\\Local\\Temp\\ipykernel_74152\\446182259.py:2: FutureWarning: Could not cast to float64, falling back to object. This behavior is deprecated. In a future version, when a dtype is passed to 'DataFrame', either all columns will be cast to that dtype, or a TypeError will be raised.\n",
      "  df=pd.DataFrame(data,columns=['Name','Age'],dtype=float)\n"
     ]
    }
   ],
   "source": [
    "data=[['Alex',10],['Bob',12],['Clarke',13]]\n",
    "df=pd.DataFrame(data,columns=['Name','Age'],dtype=float)\n",
    "print(df)"
   ]
  },
  {
   "cell_type": "raw",
   "id": "c19f93fa",
   "metadata": {},
   "source": [
    "Rise a ticket for above command"
   ]
  },
  {
   "cell_type": "code",
   "execution_count": 54,
   "id": "14262ad1",
   "metadata": {},
   "outputs": [
    {
     "name": "stdout",
     "output_type": "stream",
     "text": [
      "    Name  Age\n",
      "0    Tom   28\n",
      "1   Jack   34\n",
      "2  Steve   29\n",
      "3  Ricky   42\n"
     ]
    }
   ],
   "source": [
    "# passing on data in side the dictionary data in side name and age key comes automatially in columns the data frame \n",
    "\n",
    "data={'Name':['Tom','Jack','Steve','Ricky'],'Age':[28,34,29,42]}\n",
    "df=pd.DataFrame(data)\n",
    "print(df)"
   ]
  },
  {
   "cell_type": "code",
   "execution_count": 55,
   "id": "3dfc820a",
   "metadata": {},
   "outputs": [
    {
     "data": {
      "text/plain": [
       "{'id': [1, 2, 3], 'Name': ['ABC', 'DEF', 'XYZ'], 'Fees': [978.5, 677.5, 454.3]}"
      ]
     },
     "execution_count": 55,
     "metadata": {},
     "output_type": "execute_result"
    }
   ],
   "source": [
    "dict1={'id':[1,2,3],'Name':['ABC','DEF','XYZ'],'Fees':[978.50,677.50,454.30]}\n",
    "\n",
    "dict1"
   ]
  },
  {
   "cell_type": "code",
   "execution_count": 61,
   "id": "92fd1794",
   "metadata": {},
   "outputs": [
    {
     "data": {
      "text/plain": [
       "{'id': [1, 2, 3, 4, 5, 6, 7],\n",
       " 'Name': ['ABC', 'DEF', 'XYZ', 'eee', 'sss', 'ccc', 'ttt'],\n",
       " 'Fees': [978.5, 677.5, 454.3, 333.22, 4444.56, 4555.9, 345.0]}"
      ]
     },
     "execution_count": 61,
     "metadata": {},
     "output_type": "execute_result"
    }
   ],
   "source": [
    "dict1={'id':[1,2,3,4,5,6,7],'Name':['ABC','DEF','XYZ','eee','sss','ccc','ttt'],'Fees':[978.50,677.50,454.30,333.22,4444.56,4555.90,345.0]}\n",
    "\n",
    "dict1"
   ]
  },
  {
   "cell_type": "code",
   "execution_count": 62,
   "id": "108e741e",
   "metadata": {},
   "outputs": [
    {
     "data": {
      "text/plain": [
       "dict_keys(['id', 'Name', 'Fees'])"
      ]
     },
     "execution_count": 62,
     "metadata": {},
     "output_type": "execute_result"
    }
   ],
   "source": [
    "dict1.keys()"
   ]
  },
  {
   "cell_type": "code",
   "execution_count": 64,
   "id": "95c03079",
   "metadata": {},
   "outputs": [
    {
     "data": {
      "text/plain": [
       "dict_values([[1, 2, 3, 4, 5, 6, 7], ['ABC', 'DEF', 'XYZ', 'eee', 'sss', 'ccc', 'ttt'], [978.5, 677.5, 454.3, 333.22, 4444.56, 4555.9, 345.0]])"
      ]
     },
     "execution_count": 64,
     "metadata": {},
     "output_type": "execute_result"
    }
   ],
   "source": [
    "dict1.values()"
   ]
  },
  {
   "cell_type": "code",
   "execution_count": 65,
   "id": "545b8e6a",
   "metadata": {},
   "outputs": [
    {
     "data": {
      "text/html": [
       "<div>\n",
       "<style scoped>\n",
       "    .dataframe tbody tr th:only-of-type {\n",
       "        vertical-align: middle;\n",
       "    }\n",
       "\n",
       "    .dataframe tbody tr th {\n",
       "        vertical-align: top;\n",
       "    }\n",
       "\n",
       "    .dataframe thead th {\n",
       "        text-align: right;\n",
       "    }\n",
       "</style>\n",
       "<table border=\"1\" class=\"dataframe\">\n",
       "  <thead>\n",
       "    <tr style=\"text-align: right;\">\n",
       "      <th></th>\n",
       "      <th>id</th>\n",
       "      <th>Name</th>\n",
       "      <th>Fees</th>\n",
       "    </tr>\n",
       "  </thead>\n",
       "  <tbody>\n",
       "    <tr>\n",
       "      <th>0</th>\n",
       "      <td>1</td>\n",
       "      <td>ABC</td>\n",
       "      <td>978.50</td>\n",
       "    </tr>\n",
       "    <tr>\n",
       "      <th>1</th>\n",
       "      <td>2</td>\n",
       "      <td>DEF</td>\n",
       "      <td>677.50</td>\n",
       "    </tr>\n",
       "    <tr>\n",
       "      <th>2</th>\n",
       "      <td>3</td>\n",
       "      <td>XYZ</td>\n",
       "      <td>454.30</td>\n",
       "    </tr>\n",
       "    <tr>\n",
       "      <th>3</th>\n",
       "      <td>4</td>\n",
       "      <td>eee</td>\n",
       "      <td>333.22</td>\n",
       "    </tr>\n",
       "    <tr>\n",
       "      <th>4</th>\n",
       "      <td>5</td>\n",
       "      <td>sss</td>\n",
       "      <td>4444.56</td>\n",
       "    </tr>\n",
       "    <tr>\n",
       "      <th>5</th>\n",
       "      <td>6</td>\n",
       "      <td>ccc</td>\n",
       "      <td>4555.90</td>\n",
       "    </tr>\n",
       "    <tr>\n",
       "      <th>6</th>\n",
       "      <td>7</td>\n",
       "      <td>ttt</td>\n",
       "      <td>345.00</td>\n",
       "    </tr>\n",
       "  </tbody>\n",
       "</table>\n",
       "</div>"
      ],
      "text/plain": [
       "   id Name     Fees\n",
       "0   1  ABC   978.50\n",
       "1   2  DEF   677.50\n",
       "2   3  XYZ   454.30\n",
       "3   4  eee   333.22\n",
       "4   5  sss  4444.56\n",
       "5   6  ccc  4555.90\n",
       "6   7  ttt   345.00"
      ]
     },
     "execution_count": 65,
     "metadata": {},
     "output_type": "execute_result"
    }
   ],
   "source": [
    "# all values in data frame if you entre anay value with same length\n",
    "pd.DataFrame(dict1)"
   ]
  },
  {
   "cell_type": "code",
   "execution_count": 66,
   "id": "57dab678",
   "metadata": {},
   "outputs": [],
   "source": [
    "df=pd.DataFrame(dict1)"
   ]
  },
  {
   "cell_type": "code",
   "execution_count": 67,
   "id": "25c1b222",
   "metadata": {},
   "outputs": [
    {
     "data": {
      "text/html": [
       "<div>\n",
       "<style scoped>\n",
       "    .dataframe tbody tr th:only-of-type {\n",
       "        vertical-align: middle;\n",
       "    }\n",
       "\n",
       "    .dataframe tbody tr th {\n",
       "        vertical-align: top;\n",
       "    }\n",
       "\n",
       "    .dataframe thead th {\n",
       "        text-align: right;\n",
       "    }\n",
       "</style>\n",
       "<table border=\"1\" class=\"dataframe\">\n",
       "  <thead>\n",
       "    <tr style=\"text-align: right;\">\n",
       "      <th></th>\n",
       "      <th>id</th>\n",
       "      <th>Name</th>\n",
       "      <th>Fees</th>\n",
       "    </tr>\n",
       "  </thead>\n",
       "  <tbody>\n",
       "    <tr>\n",
       "      <th>0</th>\n",
       "      <td>1</td>\n",
       "      <td>ABC</td>\n",
       "      <td>978.50</td>\n",
       "    </tr>\n",
       "    <tr>\n",
       "      <th>1</th>\n",
       "      <td>2</td>\n",
       "      <td>DEF</td>\n",
       "      <td>677.50</td>\n",
       "    </tr>\n",
       "    <tr>\n",
       "      <th>2</th>\n",
       "      <td>3</td>\n",
       "      <td>XYZ</td>\n",
       "      <td>454.30</td>\n",
       "    </tr>\n",
       "    <tr>\n",
       "      <th>3</th>\n",
       "      <td>4</td>\n",
       "      <td>eee</td>\n",
       "      <td>333.22</td>\n",
       "    </tr>\n",
       "    <tr>\n",
       "      <th>4</th>\n",
       "      <td>5</td>\n",
       "      <td>sss</td>\n",
       "      <td>4444.56</td>\n",
       "    </tr>\n",
       "    <tr>\n",
       "      <th>5</th>\n",
       "      <td>6</td>\n",
       "      <td>ccc</td>\n",
       "      <td>4555.90</td>\n",
       "    </tr>\n",
       "    <tr>\n",
       "      <th>6</th>\n",
       "      <td>7</td>\n",
       "      <td>ttt</td>\n",
       "      <td>345.00</td>\n",
       "    </tr>\n",
       "  </tbody>\n",
       "</table>\n",
       "</div>"
      ],
      "text/plain": [
       "   id Name     Fees\n",
       "0   1  ABC   978.50\n",
       "1   2  DEF   677.50\n",
       "2   3  XYZ   454.30\n",
       "3   4  eee   333.22\n",
       "4   5  sss  4444.56\n",
       "5   6  ccc  4555.90\n",
       "6   7  ttt   345.00"
      ]
     },
     "execution_count": 67,
     "metadata": {},
     "output_type": "execute_result"
    }
   ],
   "source": [
    "df"
   ]
  },
  {
   "cell_type": "code",
   "execution_count": 68,
   "id": "a367c4d8",
   "metadata": {},
   "outputs": [
    {
     "data": {
      "text/html": [
       "<div>\n",
       "<style scoped>\n",
       "    .dataframe tbody tr th:only-of-type {\n",
       "        vertical-align: middle;\n",
       "    }\n",
       "\n",
       "    .dataframe tbody tr th {\n",
       "        vertical-align: top;\n",
       "    }\n",
       "\n",
       "    .dataframe thead th {\n",
       "        text-align: right;\n",
       "    }\n",
       "</style>\n",
       "<table border=\"1\" class=\"dataframe\">\n",
       "  <thead>\n",
       "    <tr style=\"text-align: right;\">\n",
       "      <th></th>\n",
       "      <th>id</th>\n",
       "      <th>Name</th>\n",
       "      <th>Fees</th>\n",
       "    </tr>\n",
       "  </thead>\n",
       "  <tbody>\n",
       "    <tr>\n",
       "      <th>0</th>\n",
       "      <td>1</td>\n",
       "      <td>ABC</td>\n",
       "      <td>978.50</td>\n",
       "    </tr>\n",
       "    <tr>\n",
       "      <th>1</th>\n",
       "      <td>2</td>\n",
       "      <td>DEF</td>\n",
       "      <td>677.50</td>\n",
       "    </tr>\n",
       "    <tr>\n",
       "      <th>2</th>\n",
       "      <td>3</td>\n",
       "      <td>XYZ</td>\n",
       "      <td>454.30</td>\n",
       "    </tr>\n",
       "    <tr>\n",
       "      <th>3</th>\n",
       "      <td>4</td>\n",
       "      <td>eee</td>\n",
       "      <td>333.22</td>\n",
       "    </tr>\n",
       "    <tr>\n",
       "      <th>4</th>\n",
       "      <td>5</td>\n",
       "      <td>sss</td>\n",
       "      <td>4444.56</td>\n",
       "    </tr>\n",
       "  </tbody>\n",
       "</table>\n",
       "</div>"
      ],
      "text/plain": [
       "   id Name     Fees\n",
       "0   1  ABC   978.50\n",
       "1   2  DEF   677.50\n",
       "2   3  XYZ   454.30\n",
       "3   4  eee   333.22\n",
       "4   5  sss  4444.56"
      ]
     },
     "execution_count": 68,
     "metadata": {},
     "output_type": "execute_result"
    }
   ],
   "source": [
    "#head is giving top five rows\n",
    "df.head()"
   ]
  },
  {
   "cell_type": "code",
   "execution_count": 69,
   "id": "26471c42",
   "metadata": {},
   "outputs": [
    {
     "data": {
      "text/html": [
       "<div>\n",
       "<style scoped>\n",
       "    .dataframe tbody tr th:only-of-type {\n",
       "        vertical-align: middle;\n",
       "    }\n",
       "\n",
       "    .dataframe tbody tr th {\n",
       "        vertical-align: top;\n",
       "    }\n",
       "\n",
       "    .dataframe thead th {\n",
       "        text-align: right;\n",
       "    }\n",
       "</style>\n",
       "<table border=\"1\" class=\"dataframe\">\n",
       "  <thead>\n",
       "    <tr style=\"text-align: right;\">\n",
       "      <th></th>\n",
       "      <th>id</th>\n",
       "      <th>Name</th>\n",
       "      <th>Fees</th>\n",
       "    </tr>\n",
       "  </thead>\n",
       "  <tbody>\n",
       "    <tr>\n",
       "      <th>2</th>\n",
       "      <td>3</td>\n",
       "      <td>XYZ</td>\n",
       "      <td>454.30</td>\n",
       "    </tr>\n",
       "    <tr>\n",
       "      <th>3</th>\n",
       "      <td>4</td>\n",
       "      <td>eee</td>\n",
       "      <td>333.22</td>\n",
       "    </tr>\n",
       "    <tr>\n",
       "      <th>4</th>\n",
       "      <td>5</td>\n",
       "      <td>sss</td>\n",
       "      <td>4444.56</td>\n",
       "    </tr>\n",
       "    <tr>\n",
       "      <th>5</th>\n",
       "      <td>6</td>\n",
       "      <td>ccc</td>\n",
       "      <td>4555.90</td>\n",
       "    </tr>\n",
       "    <tr>\n",
       "      <th>6</th>\n",
       "      <td>7</td>\n",
       "      <td>ttt</td>\n",
       "      <td>345.00</td>\n",
       "    </tr>\n",
       "  </tbody>\n",
       "</table>\n",
       "</div>"
      ],
      "text/plain": [
       "   id Name     Fees\n",
       "2   3  XYZ   454.30\n",
       "3   4  eee   333.22\n",
       "4   5  sss  4444.56\n",
       "5   6  ccc  4555.90\n",
       "6   7  ttt   345.00"
      ]
     },
     "execution_count": 69,
     "metadata": {},
     "output_type": "execute_result"
    }
   ],
   "source": [
    "#tail is giving bottom five rows\n",
    "df.tail()"
   ]
  },
  {
   "cell_type": "code",
   "execution_count": 70,
   "id": "64c1ded6",
   "metadata": {},
   "outputs": [
    {
     "data": {
      "text/html": [
       "<div>\n",
       "<style scoped>\n",
       "    .dataframe tbody tr th:only-of-type {\n",
       "        vertical-align: middle;\n",
       "    }\n",
       "\n",
       "    .dataframe tbody tr th {\n",
       "        vertical-align: top;\n",
       "    }\n",
       "\n",
       "    .dataframe thead th {\n",
       "        text-align: right;\n",
       "    }\n",
       "</style>\n",
       "<table border=\"1\" class=\"dataframe\">\n",
       "  <thead>\n",
       "    <tr style=\"text-align: right;\">\n",
       "      <th></th>\n",
       "      <th>id</th>\n",
       "      <th>Name</th>\n",
       "      <th>Fees</th>\n",
       "    </tr>\n",
       "  </thead>\n",
       "  <tbody>\n",
       "    <tr>\n",
       "      <th>1</th>\n",
       "      <td>2</td>\n",
       "      <td>DEF</td>\n",
       "      <td>677.5</td>\n",
       "    </tr>\n",
       "  </tbody>\n",
       "</table>\n",
       "</div>"
      ],
      "text/plain": [
       "   id Name   Fees\n",
       "1   2  DEF  677.5"
      ]
     },
     "execution_count": 70,
     "metadata": {},
     "output_type": "execute_result"
    }
   ],
   "source": [
    "# sample value will any single row\n",
    "df.sample()"
   ]
  },
  {
   "cell_type": "code",
   "execution_count": 71,
   "id": "a261669c",
   "metadata": {},
   "outputs": [
    {
     "data": {
      "text/html": [
       "<div>\n",
       "<style scoped>\n",
       "    .dataframe tbody tr th:only-of-type {\n",
       "        vertical-align: middle;\n",
       "    }\n",
       "\n",
       "    .dataframe tbody tr th {\n",
       "        vertical-align: top;\n",
       "    }\n",
       "\n",
       "    .dataframe thead th {\n",
       "        text-align: right;\n",
       "    }\n",
       "</style>\n",
       "<table border=\"1\" class=\"dataframe\">\n",
       "  <thead>\n",
       "    <tr style=\"text-align: right;\">\n",
       "      <th></th>\n",
       "      <th>id</th>\n",
       "      <th>Name</th>\n",
       "      <th>Fees</th>\n",
       "    </tr>\n",
       "  </thead>\n",
       "  <tbody>\n",
       "    <tr>\n",
       "      <th>0</th>\n",
       "      <td>1</td>\n",
       "      <td>ABC</td>\n",
       "      <td>978.50</td>\n",
       "    </tr>\n",
       "    <tr>\n",
       "      <th>1</th>\n",
       "      <td>2</td>\n",
       "      <td>DEF</td>\n",
       "      <td>677.50</td>\n",
       "    </tr>\n",
       "    <tr>\n",
       "      <th>2</th>\n",
       "      <td>3</td>\n",
       "      <td>XYZ</td>\n",
       "      <td>454.30</td>\n",
       "    </tr>\n",
       "    <tr>\n",
       "      <th>3</th>\n",
       "      <td>4</td>\n",
       "      <td>eee</td>\n",
       "      <td>333.22</td>\n",
       "    </tr>\n",
       "    <tr>\n",
       "      <th>4</th>\n",
       "      <td>5</td>\n",
       "      <td>sss</td>\n",
       "      <td>4444.56</td>\n",
       "    </tr>\n",
       "    <tr>\n",
       "      <th>5</th>\n",
       "      <td>6</td>\n",
       "      <td>ccc</td>\n",
       "      <td>4555.90</td>\n",
       "    </tr>\n",
       "  </tbody>\n",
       "</table>\n",
       "</div>"
      ],
      "text/plain": [
       "   id Name     Fees\n",
       "0   1  ABC   978.50\n",
       "1   2  DEF   677.50\n",
       "2   3  XYZ   454.30\n",
       "3   4  eee   333.22\n",
       "4   5  sss  4444.56\n",
       "5   6  ccc  4555.90"
      ]
     },
     "execution_count": 71,
     "metadata": {},
     "output_type": "execute_result"
    }
   ],
   "source": [
    "df.head(6)"
   ]
  },
  {
   "cell_type": "code",
   "execution_count": 72,
   "id": "02e46fbe",
   "metadata": {},
   "outputs": [
    {
     "data": {
      "text/html": [
       "<div>\n",
       "<style scoped>\n",
       "    .dataframe tbody tr th:only-of-type {\n",
       "        vertical-align: middle;\n",
       "    }\n",
       "\n",
       "    .dataframe tbody tr th {\n",
       "        vertical-align: top;\n",
       "    }\n",
       "\n",
       "    .dataframe thead th {\n",
       "        text-align: right;\n",
       "    }\n",
       "</style>\n",
       "<table border=\"1\" class=\"dataframe\">\n",
       "  <thead>\n",
       "    <tr style=\"text-align: right;\">\n",
       "      <th></th>\n",
       "      <th>id</th>\n",
       "      <th>Name</th>\n",
       "      <th>Fees</th>\n",
       "    </tr>\n",
       "  </thead>\n",
       "  <tbody>\n",
       "    <tr>\n",
       "      <th>0</th>\n",
       "      <td>1</td>\n",
       "      <td>ABC</td>\n",
       "      <td>978.50</td>\n",
       "    </tr>\n",
       "    <tr>\n",
       "      <th>1</th>\n",
       "      <td>2</td>\n",
       "      <td>DEF</td>\n",
       "      <td>677.50</td>\n",
       "    </tr>\n",
       "    <tr>\n",
       "      <th>2</th>\n",
       "      <td>3</td>\n",
       "      <td>XYZ</td>\n",
       "      <td>454.30</td>\n",
       "    </tr>\n",
       "    <tr>\n",
       "      <th>3</th>\n",
       "      <td>4</td>\n",
       "      <td>eee</td>\n",
       "      <td>333.22</td>\n",
       "    </tr>\n",
       "  </tbody>\n",
       "</table>\n",
       "</div>"
      ],
      "text/plain": [
       "   id Name    Fees\n",
       "0   1  ABC  978.50\n",
       "1   2  DEF  677.50\n",
       "2   3  XYZ  454.30\n",
       "3   4  eee  333.22"
      ]
     },
     "execution_count": 72,
     "metadata": {},
     "output_type": "execute_result"
    }
   ],
   "source": [
    "df.head(4)"
   ]
  },
  {
   "cell_type": "code",
   "execution_count": 73,
   "id": "d0f74988",
   "metadata": {},
   "outputs": [
    {
     "data": {
      "text/html": [
       "<div>\n",
       "<style scoped>\n",
       "    .dataframe tbody tr th:only-of-type {\n",
       "        vertical-align: middle;\n",
       "    }\n",
       "\n",
       "    .dataframe tbody tr th {\n",
       "        vertical-align: top;\n",
       "    }\n",
       "\n",
       "    .dataframe thead th {\n",
       "        text-align: right;\n",
       "    }\n",
       "</style>\n",
       "<table border=\"1\" class=\"dataframe\">\n",
       "  <thead>\n",
       "    <tr style=\"text-align: right;\">\n",
       "      <th></th>\n",
       "      <th>id</th>\n",
       "      <th>Name</th>\n",
       "      <th>Fees</th>\n",
       "    </tr>\n",
       "  </thead>\n",
       "  <tbody>\n",
       "    <tr>\n",
       "      <th>3</th>\n",
       "      <td>4</td>\n",
       "      <td>eee</td>\n",
       "      <td>333.22</td>\n",
       "    </tr>\n",
       "    <tr>\n",
       "      <th>4</th>\n",
       "      <td>5</td>\n",
       "      <td>sss</td>\n",
       "      <td>4444.56</td>\n",
       "    </tr>\n",
       "    <tr>\n",
       "      <th>5</th>\n",
       "      <td>6</td>\n",
       "      <td>ccc</td>\n",
       "      <td>4555.90</td>\n",
       "    </tr>\n",
       "    <tr>\n",
       "      <th>6</th>\n",
       "      <td>7</td>\n",
       "      <td>ttt</td>\n",
       "      <td>345.00</td>\n",
       "    </tr>\n",
       "  </tbody>\n",
       "</table>\n",
       "</div>"
      ],
      "text/plain": [
       "   id Name     Fees\n",
       "3   4  eee   333.22\n",
       "4   5  sss  4444.56\n",
       "5   6  ccc  4555.90\n",
       "6   7  ttt   345.00"
      ]
     },
     "execution_count": 73,
     "metadata": {},
     "output_type": "execute_result"
    }
   ],
   "source": [
    "df.tail(4)"
   ]
  },
  {
   "cell_type": "code",
   "execution_count": 74,
   "id": "79005408",
   "metadata": {},
   "outputs": [
    {
     "data": {
      "text/html": [
       "<div>\n",
       "<style scoped>\n",
       "    .dataframe tbody tr th:only-of-type {\n",
       "        vertical-align: middle;\n",
       "    }\n",
       "\n",
       "    .dataframe tbody tr th {\n",
       "        vertical-align: top;\n",
       "    }\n",
       "\n",
       "    .dataframe thead th {\n",
       "        text-align: right;\n",
       "    }\n",
       "</style>\n",
       "<table border=\"1\" class=\"dataframe\">\n",
       "  <thead>\n",
       "    <tr style=\"text-align: right;\">\n",
       "      <th></th>\n",
       "      <th>id</th>\n",
       "      <th>Name</th>\n",
       "      <th>Fees</th>\n",
       "    </tr>\n",
       "  </thead>\n",
       "  <tbody>\n",
       "    <tr>\n",
       "      <th>1</th>\n",
       "      <td>2</td>\n",
       "      <td>DEF</td>\n",
       "      <td>677.50</td>\n",
       "    </tr>\n",
       "    <tr>\n",
       "      <th>2</th>\n",
       "      <td>3</td>\n",
       "      <td>XYZ</td>\n",
       "      <td>454.30</td>\n",
       "    </tr>\n",
       "    <tr>\n",
       "      <th>3</th>\n",
       "      <td>4</td>\n",
       "      <td>eee</td>\n",
       "      <td>333.22</td>\n",
       "    </tr>\n",
       "    <tr>\n",
       "      <th>4</th>\n",
       "      <td>5</td>\n",
       "      <td>sss</td>\n",
       "      <td>4444.56</td>\n",
       "    </tr>\n",
       "    <tr>\n",
       "      <th>5</th>\n",
       "      <td>6</td>\n",
       "      <td>ccc</td>\n",
       "      <td>4555.90</td>\n",
       "    </tr>\n",
       "    <tr>\n",
       "      <th>6</th>\n",
       "      <td>7</td>\n",
       "      <td>ttt</td>\n",
       "      <td>345.00</td>\n",
       "    </tr>\n",
       "  </tbody>\n",
       "</table>\n",
       "</div>"
      ],
      "text/plain": [
       "   id Name     Fees\n",
       "1   2  DEF   677.50\n",
       "2   3  XYZ   454.30\n",
       "3   4  eee   333.22\n",
       "4   5  sss  4444.56\n",
       "5   6  ccc  4555.90\n",
       "6   7  ttt   345.00"
      ]
     },
     "execution_count": 74,
     "metadata": {},
     "output_type": "execute_result"
    }
   ],
   "source": [
    "df.tail(6)"
   ]
  },
  {
   "cell_type": "code",
   "execution_count": 75,
   "id": "5259ee8c",
   "metadata": {},
   "outputs": [
    {
     "data": {
      "text/html": [
       "<div>\n",
       "<style scoped>\n",
       "    .dataframe tbody tr th:only-of-type {\n",
       "        vertical-align: middle;\n",
       "    }\n",
       "\n",
       "    .dataframe tbody tr th {\n",
       "        vertical-align: top;\n",
       "    }\n",
       "\n",
       "    .dataframe thead th {\n",
       "        text-align: right;\n",
       "    }\n",
       "</style>\n",
       "<table border=\"1\" class=\"dataframe\">\n",
       "  <thead>\n",
       "    <tr style=\"text-align: right;\">\n",
       "      <th></th>\n",
       "      <th>id</th>\n",
       "      <th>Name</th>\n",
       "      <th>Fees</th>\n",
       "    </tr>\n",
       "  </thead>\n",
       "  <tbody>\n",
       "    <tr>\n",
       "      <th>5</th>\n",
       "      <td>6</td>\n",
       "      <td>ccc</td>\n",
       "      <td>4555.9</td>\n",
       "    </tr>\n",
       "    <tr>\n",
       "      <th>6</th>\n",
       "      <td>7</td>\n",
       "      <td>ttt</td>\n",
       "      <td>345.0</td>\n",
       "    </tr>\n",
       "  </tbody>\n",
       "</table>\n",
       "</div>"
      ],
      "text/plain": [
       "   id Name    Fees\n",
       "5   6  ccc  4555.9\n",
       "6   7  ttt   345.0"
      ]
     },
     "execution_count": 75,
     "metadata": {},
     "output_type": "execute_result"
    }
   ],
   "source": [
    "df.tail(2)"
   ]
  },
  {
   "cell_type": "code",
   "execution_count": 76,
   "id": "ac508a89",
   "metadata": {},
   "outputs": [
    {
     "data": {
      "text/html": [
       "<div>\n",
       "<style scoped>\n",
       "    .dataframe tbody tr th:only-of-type {\n",
       "        vertical-align: middle;\n",
       "    }\n",
       "\n",
       "    .dataframe tbody tr th {\n",
       "        vertical-align: top;\n",
       "    }\n",
       "\n",
       "    .dataframe thead th {\n",
       "        text-align: right;\n",
       "    }\n",
       "</style>\n",
       "<table border=\"1\" class=\"dataframe\">\n",
       "  <thead>\n",
       "    <tr style=\"text-align: right;\">\n",
       "      <th></th>\n",
       "      <th>id</th>\n",
       "      <th>Name</th>\n",
       "      <th>Fees</th>\n",
       "    </tr>\n",
       "  </thead>\n",
       "  <tbody>\n",
       "    <tr>\n",
       "      <th>0</th>\n",
       "      <td>1</td>\n",
       "      <td>ABC</td>\n",
       "      <td>978.50</td>\n",
       "    </tr>\n",
       "    <tr>\n",
       "      <th>4</th>\n",
       "      <td>5</td>\n",
       "      <td>sss</td>\n",
       "      <td>4444.56</td>\n",
       "    </tr>\n",
       "  </tbody>\n",
       "</table>\n",
       "</div>"
      ],
      "text/plain": [
       "   id Name     Fees\n",
       "0   1  ABC   978.50\n",
       "4   5  sss  4444.56"
      ]
     },
     "execution_count": 76,
     "metadata": {},
     "output_type": "execute_result"
    }
   ],
   "source": [
    "# smaple will select any row in between the table\n",
    "df.sample(2)"
   ]
  },
  {
   "cell_type": "code",
   "execution_count": 78,
   "id": "72f013e0",
   "metadata": {},
   "outputs": [
    {
     "data": {
      "text/plain": [
       "<AxesSubplot:>"
      ]
     },
     "execution_count": 78,
     "metadata": {},
     "output_type": "execute_result"
    },
    {
     "data": {
      "image/png": "[encoded data removed]",
      "text/plain": [
       "<Figure size 432x288 with 1 Axes>"
      ]
     },
     "metadata": {
      "needs_background": "light"
     },
     "output_type": "display_data"
    }
   ],
   "source": [
    "df['Fees'].plot.bar()"
   ]
  },
  {
   "cell_type": "code",
   "execution_count": 79,
   "id": "8a6aff6c",
   "metadata": {},
   "outputs": [
    {
     "name": "stdout",
     "output_type": "stream",
     "text": [
      "     a     b     c\n",
      "0  1.0   2.0   NaN\n",
      "1  5.0  10.0  20.0\n"
     ]
    }
   ],
   "source": [
    "#Note-Observe, NaN (Not a Number) is appended is missing areas.\n",
    "data=[{'a':1,'b':2},{'a':5,'b':10,'c':20}]\n",
    "df=pd.DataFrame(data,dtype=float)\n",
    "print(df)"
   ]
  },
  {
   "cell_type": "code",
   "execution_count": 80,
   "id": "88a620a8",
   "metadata": {},
   "outputs": [
    {
     "name": "stdout",
     "output_type": "stream",
     "text": [
      "          a     b     c\n",
      "first   1.0   2.0   NaN\n",
      "second  5.0  10.0  20.0\n"
     ]
    }
   ],
   "source": [
    "data=[{'a':1,'b':2},{'a':5,'b':10,'c':20}]\n",
    "df=pd.DataFrame(data, index=['first','second'],dtype=float)\n",
    "print(df)"
   ]
  },
  {
   "cell_type": "code",
   "execution_count": 81,
   "id": "40113e9e",
   "metadata": {},
   "outputs": [
    {
     "name": "stdout",
     "output_type": "stream",
     "text": [
      "        a   b\n",
      "first   1   2\n",
      "second  5  10\n"
     ]
    }
   ],
   "source": [
    "data=[{'a':1, 'b':2},{'a':5,'b':10, 'c':20}]\n",
    "\n",
    "#with two columns indices, values same as dictionary keys\n",
    "\n",
    "df1=pd.DataFrame(data, index=['first','second'], columns=['a','b'])\n",
    "# here it is showing only a & b columns\n",
    "print(df1)"
   ]
  },
  {
   "cell_type": "code",
   "execution_count": 83,
   "id": "664b9eb7",
   "metadata": {},
   "outputs": [
    {
     "name": "stdout",
     "output_type": "stream",
     "text": [
      "        a   b     c\n",
      "first   1   2   NaN\n",
      "second  5  10  20.0\n"
     ]
    }
   ],
   "source": [
    "data=[{'a':1, 'b':2},{'a':5,'b':10, 'c':20}]\n",
    "\n",
    "df1=pd.DataFrame(data, index=['first','second'], columns=['a','b','c'])\n",
    "# here it is showing a, b & c  columns\n",
    "print(df1)"
   ]
  },
  {
   "cell_type": "code",
   "execution_count": 84,
   "id": "7dfac856",
   "metadata": {},
   "outputs": [
    {
     "name": "stdout",
     "output_type": "stream",
     "text": [
      "        a  b1\n",
      "first   1 NaN\n",
      "second  5 NaN\n"
     ]
    }
   ],
   "source": [
    "#with two colum indices with one index with other name\n",
    "df2=pd.DataFrame(data, index=['first','second'], columns=['a','b1'])\n",
    "print(df2)"
   ]
  },
  {
   "cell_type": "markdown",
   "id": "cf169842",
   "metadata": {},
   "source": [
    "# Indexing and Slicing in PANDAS"
   ]
  },
  {
   "cell_type": "raw",
   "id": "05b88bc6",
   "metadata": {},
   "source": [
    "Two methods...>1.loc(lable based operation )  2.iloc(index-location based operation)"
   ]
  },
  {
   "cell_type": "markdown",
   "id": "a923dabb",
   "metadata": {},
   "source": [
    "iloc operation is much more compartable"
   ]
  },
  {
   "cell_type": "markdown",
   "id": "3c16b9d4",
   "metadata": {},
   "source": [
    "using lable based(loc) function and index location based (iloc) function\n",
    "\n",
    "loc() pandas provided various methods to have purely lable based indexing"
   ]
  },
  {
   "cell_type": "code",
   "execution_count": 85,
   "id": "b01aea41",
   "metadata": {},
   "outputs": [],
   "source": [
    "import pandas as pd\n",
    "import numpy as np"
   ]
  },
  {
   "cell_type": "code",
   "execution_count": 87,
   "id": "de0b33fd",
   "metadata": {},
   "outputs": [
    {
     "data": {
      "text/html": [
       "<div>\n",
       "<style scoped>\n",
       "    .dataframe tbody tr th:only-of-type {\n",
       "        vertical-align: middle;\n",
       "    }\n",
       "\n",
       "    .dataframe tbody tr th {\n",
       "        vertical-align: top;\n",
       "    }\n",
       "\n",
       "    .dataframe thead th {\n",
       "        text-align: right;\n",
       "    }\n",
       "</style>\n",
       "<table border=\"1\" class=\"dataframe\">\n",
       "  <thead>\n",
       "    <tr style=\"text-align: right;\">\n",
       "      <th></th>\n",
       "      <th>A</th>\n",
       "      <th>B</th>\n",
       "      <th>C</th>\n",
       "      <th>D</th>\n",
       "    </tr>\n",
       "  </thead>\n",
       "  <tbody>\n",
       "    <tr>\n",
       "      <th>0</th>\n",
       "      <td>-1.269639</td>\n",
       "      <td>-1.402586</td>\n",
       "      <td>-0.256802</td>\n",
       "      <td>0.814172</td>\n",
       "    </tr>\n",
       "    <tr>\n",
       "      <th>1</th>\n",
       "      <td>0.507144</td>\n",
       "      <td>-0.296429</td>\n",
       "      <td>0.368346</td>\n",
       "      <td>-0.180981</td>\n",
       "    </tr>\n",
       "    <tr>\n",
       "      <th>2</th>\n",
       "      <td>-0.754237</td>\n",
       "      <td>0.198444</td>\n",
       "      <td>0.114201</td>\n",
       "      <td>-0.487529</td>\n",
       "    </tr>\n",
       "    <tr>\n",
       "      <th>3</th>\n",
       "      <td>0.437370</td>\n",
       "      <td>-0.254240</td>\n",
       "      <td>-0.868238</td>\n",
       "      <td>-0.319911</td>\n",
       "    </tr>\n",
       "    <tr>\n",
       "      <th>4</th>\n",
       "      <td>-0.073447</td>\n",
       "      <td>-0.100607</td>\n",
       "      <td>-0.738113</td>\n",
       "      <td>1.229976</td>\n",
       "    </tr>\n",
       "    <tr>\n",
       "      <th>5</th>\n",
       "      <td>0.212053</td>\n",
       "      <td>2.212650</td>\n",
       "      <td>0.165903</td>\n",
       "      <td>-0.718352</td>\n",
       "    </tr>\n",
       "    <tr>\n",
       "      <th>6</th>\n",
       "      <td>0.645284</td>\n",
       "      <td>1.562707</td>\n",
       "      <td>0.461718</td>\n",
       "      <td>-0.761418</td>\n",
       "    </tr>\n",
       "    <tr>\n",
       "      <th>7</th>\n",
       "      <td>-0.266184</td>\n",
       "      <td>-0.183467</td>\n",
       "      <td>-0.660879</td>\n",
       "      <td>0.085153</td>\n",
       "    </tr>\n",
       "  </tbody>\n",
       "</table>\n",
       "</div>"
      ],
      "text/plain": [
       "          A         B         C         D\n",
       "0 -1.269639 -1.402586 -0.256802  0.814172\n",
       "1  0.507144 -0.296429  0.368346 -0.180981\n",
       "2 -0.754237  0.198444  0.114201 -0.487529\n",
       "3  0.437370 -0.254240 -0.868238 -0.319911\n",
       "4 -0.073447 -0.100607 -0.738113  1.229976\n",
       "5  0.212053  2.212650  0.165903 -0.718352\n",
       "6  0.645284  1.562707  0.461718 -0.761418\n",
       "7 -0.266184 -0.183467 -0.660879  0.085153"
      ]
     },
     "execution_count": 87,
     "metadata": {},
     "output_type": "execute_result"
    }
   ],
   "source": [
    "#df=pd.DataFrame(np.random.randn(8,4), index=['a','b','c','d','e','f','g','h'], columns=['A','B','C','D'])\n",
    "#df\n",
    "\n",
    "df=pd.DataFrame(np.random.randn(8,4),columns=['A','B','C','D'])\n",
    "df"
   ]
  },
  {
   "cell_type": "markdown",
   "id": "1138335d",
   "metadata": {},
   "source": [
    "loc[rowstart:rowend,'lable or column name']"
   ]
  },
  {
   "cell_type": "code",
   "execution_count": 88,
   "id": "05762d11",
   "metadata": {},
   "outputs": [
    {
     "name": "stdout",
     "output_type": "stream",
     "text": [
      "0   -1.269639\n",
      "1    0.507144\n",
      "2   -0.754237\n",
      "3    0.437370\n",
      "4   -0.073447\n",
      "5    0.212053\n",
      "6    0.645284\n",
      "7   -0.266184\n",
      "Name: A, dtype: float64\n"
     ]
    }
   ],
   "source": [
    "print(df.loc[:,'A'])"
   ]
  },
  {
   "cell_type": "markdown",
   "id": "c5c2733e",
   "metadata": {},
   "source": [
    "df.loc[['indexname1','indexname2'],[lableA,lableB]] as location will take lable only, it will not work with indexing in numeric format"
   ]
  },
  {
   "cell_type": "code",
   "execution_count": 89,
   "id": "a9fadb24",
   "metadata": {},
   "outputs": [
    {
     "name": "stdout",
     "output_type": "stream",
     "text": [
      "          C         D\n",
      "0 -0.256802  0.814172\n",
      "1  0.368346 -0.180981\n",
      "2  0.114201 -0.487529\n",
      "3 -0.868238 -0.319911\n",
      "4 -0.738113  1.229976\n",
      "5  0.165903 -0.718352\n",
      "6  0.461718 -0.761418\n",
      "7 -0.660879  0.085153\n"
     ]
    }
   ],
   "source": [
    "print(df.loc[:,['C','D']])"
   ]
  },
  {
   "cell_type": "markdown",
   "id": "f1bfa0b0",
   "metadata": {},
   "source": [
    ".iloc() pandas provide various methods in order to get purely integer based indexing. Like python and numpy, these are o-based indexing"
   ]
  },
  {
   "cell_type": "code",
   "execution_count": 90,
   "id": "92692573",
   "metadata": {},
   "outputs": [
    {
     "data": {
      "text/html": [
       "<div>\n",
       "<style scoped>\n",
       "    .dataframe tbody tr th:only-of-type {\n",
       "        vertical-align: middle;\n",
       "    }\n",
       "\n",
       "    .dataframe tbody tr th {\n",
       "        vertical-align: top;\n",
       "    }\n",
       "\n",
       "    .dataframe thead th {\n",
       "        text-align: right;\n",
       "    }\n",
       "</style>\n",
       "<table border=\"1\" class=\"dataframe\">\n",
       "  <thead>\n",
       "    <tr style=\"text-align: right;\">\n",
       "      <th></th>\n",
       "      <th>A</th>\n",
       "      <th>B</th>\n",
       "      <th>C</th>\n",
       "      <th>D</th>\n",
       "    </tr>\n",
       "  </thead>\n",
       "  <tbody>\n",
       "    <tr>\n",
       "      <th>0</th>\n",
       "      <td>-1.269639</td>\n",
       "      <td>-1.402586</td>\n",
       "      <td>-0.256802</td>\n",
       "      <td>0.814172</td>\n",
       "    </tr>\n",
       "    <tr>\n",
       "      <th>1</th>\n",
       "      <td>0.507144</td>\n",
       "      <td>-0.296429</td>\n",
       "      <td>0.368346</td>\n",
       "      <td>-0.180981</td>\n",
       "    </tr>\n",
       "    <tr>\n",
       "      <th>2</th>\n",
       "      <td>-0.754237</td>\n",
       "      <td>0.198444</td>\n",
       "      <td>0.114201</td>\n",
       "      <td>-0.487529</td>\n",
       "    </tr>\n",
       "    <tr>\n",
       "      <th>3</th>\n",
       "      <td>0.437370</td>\n",
       "      <td>-0.254240</td>\n",
       "      <td>-0.868238</td>\n",
       "      <td>-0.319911</td>\n",
       "    </tr>\n",
       "    <tr>\n",
       "      <th>4</th>\n",
       "      <td>-0.073447</td>\n",
       "      <td>-0.100607</td>\n",
       "      <td>-0.738113</td>\n",
       "      <td>1.229976</td>\n",
       "    </tr>\n",
       "    <tr>\n",
       "      <th>5</th>\n",
       "      <td>0.212053</td>\n",
       "      <td>2.212650</td>\n",
       "      <td>0.165903</td>\n",
       "      <td>-0.718352</td>\n",
       "    </tr>\n",
       "    <tr>\n",
       "      <th>6</th>\n",
       "      <td>0.645284</td>\n",
       "      <td>1.562707</td>\n",
       "      <td>0.461718</td>\n",
       "      <td>-0.761418</td>\n",
       "    </tr>\n",
       "    <tr>\n",
       "      <th>7</th>\n",
       "      <td>-0.266184</td>\n",
       "      <td>-0.183467</td>\n",
       "      <td>-0.660879</td>\n",
       "      <td>0.085153</td>\n",
       "    </tr>\n",
       "  </tbody>\n",
       "</table>\n",
       "</div>"
      ],
      "text/plain": [
       "          A         B         C         D\n",
       "0 -1.269639 -1.402586 -0.256802  0.814172\n",
       "1  0.507144 -0.296429  0.368346 -0.180981\n",
       "2 -0.754237  0.198444  0.114201 -0.487529\n",
       "3  0.437370 -0.254240 -0.868238 -0.319911\n",
       "4 -0.073447 -0.100607 -0.738113  1.229976\n",
       "5  0.212053  2.212650  0.165903 -0.718352\n",
       "6  0.645284  1.562707  0.461718 -0.761418\n",
       "7 -0.266184 -0.183467 -0.660879  0.085153"
      ]
     },
     "execution_count": 90,
     "metadata": {},
     "output_type": "execute_result"
    }
   ],
   "source": [
    "df"
   ]
  },
  {
   "cell_type": "raw",
   "id": "515c0703",
   "metadata": {},
   "source": [
    "df.iloc[rows start:row end,startcolumns:end columns]"
   ]
  },
  {
   "cell_type": "code",
   "execution_count": 91,
   "id": "1a4a4c40",
   "metadata": {},
   "outputs": [
    {
     "data": {
      "text/plain": [
       "0   -1.269639\n",
       "1    0.507144\n",
       "2   -0.754237\n",
       "3    0.437370\n",
       "4   -0.073447\n",
       "5    0.212053\n",
       "6    0.645284\n",
       "7   -0.266184\n",
       "Name: A, dtype: float64"
      ]
     },
     "execution_count": 91,
     "metadata": {},
     "output_type": "execute_result"
    }
   ],
   "source": [
    "df.iloc[:,0]"
   ]
  },
  {
   "cell_type": "code",
   "execution_count": 93,
   "id": "175bd7e5",
   "metadata": {},
   "outputs": [
    {
     "data": {
      "text/plain": [
       "0   -0.256802\n",
       "1    0.368346\n",
       "2    0.114201\n",
       "3   -0.868238\n",
       "4   -0.738113\n",
       "5    0.165903\n",
       "6    0.461718\n",
       "7   -0.660879\n",
       "Name: C, dtype: float64"
      ]
     },
     "execution_count": 93,
     "metadata": {},
     "output_type": "execute_result"
    }
   ],
   "source": [
    "df.iloc[:,2]"
   ]
  },
  {
   "cell_type": "code",
   "execution_count": 94,
   "id": "0dc6a878",
   "metadata": {},
   "outputs": [
    {
     "data": {
      "text/plain": [
       "0    0.814172\n",
       "1   -0.180981\n",
       "2   -0.487529\n",
       "3   -0.319911\n",
       "4    1.229976\n",
       "5   -0.718352\n",
       "6   -0.761418\n",
       "7    0.085153\n",
       "Name: D, dtype: float64"
      ]
     },
     "execution_count": 94,
     "metadata": {},
     "output_type": "execute_result"
    }
   ],
   "source": [
    "df.iloc[:,3]"
   ]
  },
  {
   "cell_type": "code",
   "execution_count": 96,
   "id": "ced1af69",
   "metadata": {},
   "outputs": [
    {
     "data": {
      "text/html": [
       "<div>\n",
       "<style scoped>\n",
       "    .dataframe tbody tr th:only-of-type {\n",
       "        vertical-align: middle;\n",
       "    }\n",
       "\n",
       "    .dataframe tbody tr th {\n",
       "        vertical-align: top;\n",
       "    }\n",
       "\n",
       "    .dataframe thead th {\n",
       "        text-align: right;\n",
       "    }\n",
       "</style>\n",
       "<table border=\"1\" class=\"dataframe\">\n",
       "  <thead>\n",
       "    <tr style=\"text-align: right;\">\n",
       "      <th></th>\n",
       "      <th>A</th>\n",
       "      <th>B</th>\n",
       "    </tr>\n",
       "  </thead>\n",
       "  <tbody>\n",
       "    <tr>\n",
       "      <th>0</th>\n",
       "      <td>-1.269639</td>\n",
       "      <td>-1.402586</td>\n",
       "    </tr>\n",
       "    <tr>\n",
       "      <th>1</th>\n",
       "      <td>0.507144</td>\n",
       "      <td>-0.296429</td>\n",
       "    </tr>\n",
       "    <tr>\n",
       "      <th>2</th>\n",
       "      <td>-0.754237</td>\n",
       "      <td>0.198444</td>\n",
       "    </tr>\n",
       "    <tr>\n",
       "      <th>3</th>\n",
       "      <td>0.437370</td>\n",
       "      <td>-0.254240</td>\n",
       "    </tr>\n",
       "    <tr>\n",
       "      <th>4</th>\n",
       "      <td>-0.073447</td>\n",
       "      <td>-0.100607</td>\n",
       "    </tr>\n",
       "    <tr>\n",
       "      <th>5</th>\n",
       "      <td>0.212053</td>\n",
       "      <td>2.212650</td>\n",
       "    </tr>\n",
       "    <tr>\n",
       "      <th>6</th>\n",
       "      <td>0.645284</td>\n",
       "      <td>1.562707</td>\n",
       "    </tr>\n",
       "    <tr>\n",
       "      <th>7</th>\n",
       "      <td>-0.266184</td>\n",
       "      <td>-0.183467</td>\n",
       "    </tr>\n",
       "  </tbody>\n",
       "</table>\n",
       "</div>"
      ],
      "text/plain": [
       "          A         B\n",
       "0 -1.269639 -1.402586\n",
       "1  0.507144 -0.296429\n",
       "2 -0.754237  0.198444\n",
       "3  0.437370 -0.254240\n",
       "4 -0.073447 -0.100607\n",
       "5  0.212053  2.212650\n",
       "6  0.645284  1.562707\n",
       "7 -0.266184 -0.183467"
      ]
     },
     "execution_count": 96,
     "metadata": {},
     "output_type": "execute_result"
    }
   ],
   "source": [
    "df.iloc[:,0:2]"
   ]
  },
  {
   "cell_type": "code",
   "execution_count": 97,
   "id": "f5333623",
   "metadata": {},
   "outputs": [
    {
     "data": {
      "text/html": [
       "<div>\n",
       "<style scoped>\n",
       "    .dataframe tbody tr th:only-of-type {\n",
       "        vertical-align: middle;\n",
       "    }\n",
       "\n",
       "    .dataframe tbody tr th {\n",
       "        vertical-align: top;\n",
       "    }\n",
       "\n",
       "    .dataframe thead th {\n",
       "        text-align: right;\n",
       "    }\n",
       "</style>\n",
       "<table border=\"1\" class=\"dataframe\">\n",
       "  <thead>\n",
       "    <tr style=\"text-align: right;\">\n",
       "      <th></th>\n",
       "      <th>A</th>\n",
       "      <th>B</th>\n",
       "      <th>C</th>\n",
       "    </tr>\n",
       "  </thead>\n",
       "  <tbody>\n",
       "    <tr>\n",
       "      <th>0</th>\n",
       "      <td>-1.269639</td>\n",
       "      <td>-1.402586</td>\n",
       "      <td>-0.256802</td>\n",
       "    </tr>\n",
       "    <tr>\n",
       "      <th>1</th>\n",
       "      <td>0.507144</td>\n",
       "      <td>-0.296429</td>\n",
       "      <td>0.368346</td>\n",
       "    </tr>\n",
       "    <tr>\n",
       "      <th>2</th>\n",
       "      <td>-0.754237</td>\n",
       "      <td>0.198444</td>\n",
       "      <td>0.114201</td>\n",
       "    </tr>\n",
       "    <tr>\n",
       "      <th>3</th>\n",
       "      <td>0.437370</td>\n",
       "      <td>-0.254240</td>\n",
       "      <td>-0.868238</td>\n",
       "    </tr>\n",
       "    <tr>\n",
       "      <th>4</th>\n",
       "      <td>-0.073447</td>\n",
       "      <td>-0.100607</td>\n",
       "      <td>-0.738113</td>\n",
       "    </tr>\n",
       "    <tr>\n",
       "      <th>5</th>\n",
       "      <td>0.212053</td>\n",
       "      <td>2.212650</td>\n",
       "      <td>0.165903</td>\n",
       "    </tr>\n",
       "    <tr>\n",
       "      <th>6</th>\n",
       "      <td>0.645284</td>\n",
       "      <td>1.562707</td>\n",
       "      <td>0.461718</td>\n",
       "    </tr>\n",
       "    <tr>\n",
       "      <th>7</th>\n",
       "      <td>-0.266184</td>\n",
       "      <td>-0.183467</td>\n",
       "      <td>-0.660879</td>\n",
       "    </tr>\n",
       "  </tbody>\n",
       "</table>\n",
       "</div>"
      ],
      "text/plain": [
       "          A         B         C\n",
       "0 -1.269639 -1.402586 -0.256802\n",
       "1  0.507144 -0.296429  0.368346\n",
       "2 -0.754237  0.198444  0.114201\n",
       "3  0.437370 -0.254240 -0.868238\n",
       "4 -0.073447 -0.100607 -0.738113\n",
       "5  0.212053  2.212650  0.165903\n",
       "6  0.645284  1.562707  0.461718\n",
       "7 -0.266184 -0.183467 -0.660879"
      ]
     },
     "execution_count": 97,
     "metadata": {},
     "output_type": "execute_result"
    }
   ],
   "source": [
    "df.iloc[:,0:3]"
   ]
  },
  {
   "cell_type": "code",
   "execution_count": 98,
   "id": "d8f814d5",
   "metadata": {},
   "outputs": [
    {
     "data": {
      "text/html": [
       "<div>\n",
       "<style scoped>\n",
       "    .dataframe tbody tr th:only-of-type {\n",
       "        vertical-align: middle;\n",
       "    }\n",
       "\n",
       "    .dataframe tbody tr th {\n",
       "        vertical-align: top;\n",
       "    }\n",
       "\n",
       "    .dataframe thead th {\n",
       "        text-align: right;\n",
       "    }\n",
       "</style>\n",
       "<table border=\"1\" class=\"dataframe\">\n",
       "  <thead>\n",
       "    <tr style=\"text-align: right;\">\n",
       "      <th></th>\n",
       "      <th>B</th>\n",
       "      <th>C</th>\n",
       "    </tr>\n",
       "  </thead>\n",
       "  <tbody>\n",
       "    <tr>\n",
       "      <th>0</th>\n",
       "      <td>-1.402586</td>\n",
       "      <td>-0.256802</td>\n",
       "    </tr>\n",
       "    <tr>\n",
       "      <th>1</th>\n",
       "      <td>-0.296429</td>\n",
       "      <td>0.368346</td>\n",
       "    </tr>\n",
       "    <tr>\n",
       "      <th>2</th>\n",
       "      <td>0.198444</td>\n",
       "      <td>0.114201</td>\n",
       "    </tr>\n",
       "    <tr>\n",
       "      <th>3</th>\n",
       "      <td>-0.254240</td>\n",
       "      <td>-0.868238</td>\n",
       "    </tr>\n",
       "    <tr>\n",
       "      <th>4</th>\n",
       "      <td>-0.100607</td>\n",
       "      <td>-0.738113</td>\n",
       "    </tr>\n",
       "    <tr>\n",
       "      <th>5</th>\n",
       "      <td>2.212650</td>\n",
       "      <td>0.165903</td>\n",
       "    </tr>\n",
       "    <tr>\n",
       "      <th>6</th>\n",
       "      <td>1.562707</td>\n",
       "      <td>0.461718</td>\n",
       "    </tr>\n",
       "    <tr>\n",
       "      <th>7</th>\n",
       "      <td>-0.183467</td>\n",
       "      <td>-0.660879</td>\n",
       "    </tr>\n",
       "  </tbody>\n",
       "</table>\n",
       "</div>"
      ],
      "text/plain": [
       "          B         C\n",
       "0 -1.402586 -0.256802\n",
       "1 -0.296429  0.368346\n",
       "2  0.198444  0.114201\n",
       "3 -0.254240 -0.868238\n",
       "4 -0.100607 -0.738113\n",
       "5  2.212650  0.165903\n",
       "6  1.562707  0.461718\n",
       "7 -0.183467 -0.660879"
      ]
     },
     "execution_count": 98,
     "metadata": {},
     "output_type": "execute_result"
    }
   ],
   "source": [
    "df.iloc[:,1:3]"
   ]
  },
  {
   "cell_type": "code",
   "execution_count": 99,
   "id": "e1bbc116",
   "metadata": {},
   "outputs": [
    {
     "data": {
      "text/plain": [
       "0   -1.269639\n",
       "1    0.507144\n",
       "2   -0.754237\n",
       "3    0.437370\n",
       "4   -0.073447\n",
       "Name: A, dtype: float64"
      ]
     },
     "execution_count": 99,
     "metadata": {},
     "output_type": "execute_result"
    }
   ],
   "source": [
    "df.iloc[0:5,0]"
   ]
  },
  {
   "cell_type": "code",
   "execution_count": 100,
   "id": "250e1779",
   "metadata": {},
   "outputs": [
    {
     "data": {
      "text/html": [
       "<div>\n",
       "<style scoped>\n",
       "    .dataframe tbody tr th:only-of-type {\n",
       "        vertical-align: middle;\n",
       "    }\n",
       "\n",
       "    .dataframe tbody tr th {\n",
       "        vertical-align: top;\n",
       "    }\n",
       "\n",
       "    .dataframe thead th {\n",
       "        text-align: right;\n",
       "    }\n",
       "</style>\n",
       "<table border=\"1\" class=\"dataframe\">\n",
       "  <thead>\n",
       "    <tr style=\"text-align: right;\">\n",
       "      <th></th>\n",
       "      <th>A</th>\n",
       "      <th>B</th>\n",
       "    </tr>\n",
       "  </thead>\n",
       "  <tbody>\n",
       "    <tr>\n",
       "      <th>0</th>\n",
       "      <td>-1.269639</td>\n",
       "      <td>-1.402586</td>\n",
       "    </tr>\n",
       "    <tr>\n",
       "      <th>1</th>\n",
       "      <td>0.507144</td>\n",
       "      <td>-0.296429</td>\n",
       "    </tr>\n",
       "    <tr>\n",
       "      <th>2</th>\n",
       "      <td>-0.754237</td>\n",
       "      <td>0.198444</td>\n",
       "    </tr>\n",
       "    <tr>\n",
       "      <th>3</th>\n",
       "      <td>0.437370</td>\n",
       "      <td>-0.254240</td>\n",
       "    </tr>\n",
       "    <tr>\n",
       "      <th>4</th>\n",
       "      <td>-0.073447</td>\n",
       "      <td>-0.100607</td>\n",
       "    </tr>\n",
       "    <tr>\n",
       "      <th>5</th>\n",
       "      <td>0.212053</td>\n",
       "      <td>2.212650</td>\n",
       "    </tr>\n",
       "  </tbody>\n",
       "</table>\n",
       "</div>"
      ],
      "text/plain": [
       "          A         B\n",
       "0 -1.269639 -1.402586\n",
       "1  0.507144 -0.296429\n",
       "2 -0.754237  0.198444\n",
       "3  0.437370 -0.254240\n",
       "4 -0.073447 -0.100607\n",
       "5  0.212053  2.212650"
      ]
     },
     "execution_count": 100,
     "metadata": {},
     "output_type": "execute_result"
    }
   ],
   "source": [
    "df.iloc[0:6,0:2]"
   ]
  },
  {
   "cell_type": "code",
   "execution_count": 101,
   "id": "185e894f",
   "metadata": {},
   "outputs": [
    {
     "data": {
      "text/html": [
       "<div>\n",
       "<style scoped>\n",
       "    .dataframe tbody tr th:only-of-type {\n",
       "        vertical-align: middle;\n",
       "    }\n",
       "\n",
       "    .dataframe tbody tr th {\n",
       "        vertical-align: top;\n",
       "    }\n",
       "\n",
       "    .dataframe thead th {\n",
       "        text-align: right;\n",
       "    }\n",
       "</style>\n",
       "<table border=\"1\" class=\"dataframe\">\n",
       "  <thead>\n",
       "    <tr style=\"text-align: right;\">\n",
       "      <th></th>\n",
       "      <th>B</th>\n",
       "      <th>C</th>\n",
       "    </tr>\n",
       "  </thead>\n",
       "  <tbody>\n",
       "    <tr>\n",
       "      <th>2</th>\n",
       "      <td>0.198444</td>\n",
       "      <td>0.114201</td>\n",
       "    </tr>\n",
       "    <tr>\n",
       "      <th>3</th>\n",
       "      <td>-0.254240</td>\n",
       "      <td>-0.868238</td>\n",
       "    </tr>\n",
       "    <tr>\n",
       "      <th>4</th>\n",
       "      <td>-0.100607</td>\n",
       "      <td>-0.738113</td>\n",
       "    </tr>\n",
       "    <tr>\n",
       "      <th>5</th>\n",
       "      <td>2.212650</td>\n",
       "      <td>0.165903</td>\n",
       "    </tr>\n",
       "    <tr>\n",
       "      <th>6</th>\n",
       "      <td>1.562707</td>\n",
       "      <td>0.461718</td>\n",
       "    </tr>\n",
       "  </tbody>\n",
       "</table>\n",
       "</div>"
      ],
      "text/plain": [
       "          B         C\n",
       "2  0.198444  0.114201\n",
       "3 -0.254240 -0.868238\n",
       "4 -0.100607 -0.738113\n",
       "5  2.212650  0.165903\n",
       "6  1.562707  0.461718"
      ]
     },
     "execution_count": 101,
     "metadata": {},
     "output_type": "execute_result"
    }
   ],
   "source": [
    "df.iloc[2:7,1:3]"
   ]
  },
  {
   "cell_type": "code",
   "execution_count": 102,
   "id": "da05b91c",
   "metadata": {},
   "outputs": [
    {
     "data": {
      "text/html": [
       "<div>\n",
       "<style scoped>\n",
       "    .dataframe tbody tr th:only-of-type {\n",
       "        vertical-align: middle;\n",
       "    }\n",
       "\n",
       "    .dataframe tbody tr th {\n",
       "        vertical-align: top;\n",
       "    }\n",
       "\n",
       "    .dataframe thead th {\n",
       "        text-align: right;\n",
       "    }\n",
       "</style>\n",
       "<table border=\"1\" class=\"dataframe\">\n",
       "  <thead>\n",
       "    <tr style=\"text-align: right;\">\n",
       "      <th></th>\n",
       "      <th>A</th>\n",
       "      <th>B</th>\n",
       "      <th>C</th>\n",
       "      <th>D</th>\n",
       "    </tr>\n",
       "  </thead>\n",
       "  <tbody>\n",
       "    <tr>\n",
       "      <th>0</th>\n",
       "      <td>-1.269639</td>\n",
       "      <td>-1.402586</td>\n",
       "      <td>-0.256802</td>\n",
       "      <td>0.814172</td>\n",
       "    </tr>\n",
       "    <tr>\n",
       "      <th>1</th>\n",
       "      <td>0.507144</td>\n",
       "      <td>-0.296429</td>\n",
       "      <td>0.368346</td>\n",
       "      <td>-0.180981</td>\n",
       "    </tr>\n",
       "    <tr>\n",
       "      <th>2</th>\n",
       "      <td>-0.754237</td>\n",
       "      <td>0.198444</td>\n",
       "      <td>0.114201</td>\n",
       "      <td>-0.487529</td>\n",
       "    </tr>\n",
       "    <tr>\n",
       "      <th>3</th>\n",
       "      <td>0.437370</td>\n",
       "      <td>-0.254240</td>\n",
       "      <td>-0.868238</td>\n",
       "      <td>-0.319911</td>\n",
       "    </tr>\n",
       "    <tr>\n",
       "      <th>4</th>\n",
       "      <td>-0.073447</td>\n",
       "      <td>-0.100607</td>\n",
       "      <td>-0.738113</td>\n",
       "      <td>1.229976</td>\n",
       "    </tr>\n",
       "    <tr>\n",
       "      <th>5</th>\n",
       "      <td>0.212053</td>\n",
       "      <td>2.212650</td>\n",
       "      <td>0.165903</td>\n",
       "      <td>-0.718352</td>\n",
       "    </tr>\n",
       "    <tr>\n",
       "      <th>6</th>\n",
       "      <td>0.645284</td>\n",
       "      <td>1.562707</td>\n",
       "      <td>0.461718</td>\n",
       "      <td>-0.761418</td>\n",
       "    </tr>\n",
       "    <tr>\n",
       "      <th>7</th>\n",
       "      <td>-0.266184</td>\n",
       "      <td>-0.183467</td>\n",
       "      <td>-0.660879</td>\n",
       "      <td>0.085153</td>\n",
       "    </tr>\n",
       "  </tbody>\n",
       "</table>\n",
       "</div>"
      ],
      "text/plain": [
       "          A         B         C         D\n",
       "0 -1.269639 -1.402586 -0.256802  0.814172\n",
       "1  0.507144 -0.296429  0.368346 -0.180981\n",
       "2 -0.754237  0.198444  0.114201 -0.487529\n",
       "3  0.437370 -0.254240 -0.868238 -0.319911\n",
       "4 -0.073447 -0.100607 -0.738113  1.229976\n",
       "5  0.212053  2.212650  0.165903 -0.718352\n",
       "6  0.645284  1.562707  0.461718 -0.761418\n",
       "7 -0.266184 -0.183467 -0.660879  0.085153"
      ]
     },
     "execution_count": 102,
     "metadata": {},
     "output_type": "execute_result"
    }
   ],
   "source": [
    "df.iloc[0:,0:]"
   ]
  },
  {
   "cell_type": "code",
   "execution_count": 103,
   "id": "3473d7e5",
   "metadata": {},
   "outputs": [
    {
     "data": {
      "text/html": [
       "<div>\n",
       "<style scoped>\n",
       "    .dataframe tbody tr th:only-of-type {\n",
       "        vertical-align: middle;\n",
       "    }\n",
       "\n",
       "    .dataframe tbody tr th {\n",
       "        vertical-align: top;\n",
       "    }\n",
       "\n",
       "    .dataframe thead th {\n",
       "        text-align: right;\n",
       "    }\n",
       "</style>\n",
       "<table border=\"1\" class=\"dataframe\">\n",
       "  <thead>\n",
       "    <tr style=\"text-align: right;\">\n",
       "      <th></th>\n",
       "      <th>A</th>\n",
       "      <th>B</th>\n",
       "      <th>C</th>\n",
       "    </tr>\n",
       "  </thead>\n",
       "  <tbody>\n",
       "    <tr>\n",
       "      <th>0</th>\n",
       "      <td>-1.269639</td>\n",
       "      <td>-1.402586</td>\n",
       "      <td>-0.256802</td>\n",
       "    </tr>\n",
       "    <tr>\n",
       "      <th>1</th>\n",
       "      <td>0.507144</td>\n",
       "      <td>-0.296429</td>\n",
       "      <td>0.368346</td>\n",
       "    </tr>\n",
       "    <tr>\n",
       "      <th>2</th>\n",
       "      <td>-0.754237</td>\n",
       "      <td>0.198444</td>\n",
       "      <td>0.114201</td>\n",
       "    </tr>\n",
       "    <tr>\n",
       "      <th>3</th>\n",
       "      <td>0.437370</td>\n",
       "      <td>-0.254240</td>\n",
       "      <td>-0.868238</td>\n",
       "    </tr>\n",
       "    <tr>\n",
       "      <th>4</th>\n",
       "      <td>-0.073447</td>\n",
       "      <td>-0.100607</td>\n",
       "      <td>-0.738113</td>\n",
       "    </tr>\n",
       "    <tr>\n",
       "      <th>5</th>\n",
       "      <td>0.212053</td>\n",
       "      <td>2.212650</td>\n",
       "      <td>0.165903</td>\n",
       "    </tr>\n",
       "    <tr>\n",
       "      <th>6</th>\n",
       "      <td>0.645284</td>\n",
       "      <td>1.562707</td>\n",
       "      <td>0.461718</td>\n",
       "    </tr>\n",
       "  </tbody>\n",
       "</table>\n",
       "</div>"
      ],
      "text/plain": [
       "          A         B         C\n",
       "0 -1.269639 -1.402586 -0.256802\n",
       "1  0.507144 -0.296429  0.368346\n",
       "2 -0.754237  0.198444  0.114201\n",
       "3  0.437370 -0.254240 -0.868238\n",
       "4 -0.073447 -0.100607 -0.738113\n",
       "5  0.212053  2.212650  0.165903\n",
       "6  0.645284  1.562707  0.461718"
      ]
     },
     "execution_count": 103,
     "metadata": {},
     "output_type": "execute_result"
    }
   ],
   "source": [
    "df.iloc[:7,0:3]"
   ]
  },
  {
   "cell_type": "code",
   "execution_count": 104,
   "id": "307d1f52",
   "metadata": {},
   "outputs": [
    {
     "data": {
      "text/html": [
       "<div>\n",
       "<style scoped>\n",
       "    .dataframe tbody tr th:only-of-type {\n",
       "        vertical-align: middle;\n",
       "    }\n",
       "\n",
       "    .dataframe tbody tr th {\n",
       "        vertical-align: top;\n",
       "    }\n",
       "\n",
       "    .dataframe thead th {\n",
       "        text-align: right;\n",
       "    }\n",
       "</style>\n",
       "<table border=\"1\" class=\"dataframe\">\n",
       "  <thead>\n",
       "    <tr style=\"text-align: right;\">\n",
       "      <th></th>\n",
       "      <th>A</th>\n",
       "      <th>B</th>\n",
       "      <th>C</th>\n",
       "      <th>D</th>\n",
       "    </tr>\n",
       "  </thead>\n",
       "  <tbody>\n",
       "    <tr>\n",
       "      <th>0</th>\n",
       "      <td>-1.269639</td>\n",
       "      <td>-1.402586</td>\n",
       "      <td>-0.256802</td>\n",
       "      <td>0.814172</td>\n",
       "    </tr>\n",
       "    <tr>\n",
       "      <th>1</th>\n",
       "      <td>0.507144</td>\n",
       "      <td>-0.296429</td>\n",
       "      <td>0.368346</td>\n",
       "      <td>-0.180981</td>\n",
       "    </tr>\n",
       "    <tr>\n",
       "      <th>2</th>\n",
       "      <td>-0.754237</td>\n",
       "      <td>0.198444</td>\n",
       "      <td>0.114201</td>\n",
       "      <td>-0.487529</td>\n",
       "    </tr>\n",
       "    <tr>\n",
       "      <th>3</th>\n",
       "      <td>0.437370</td>\n",
       "      <td>-0.254240</td>\n",
       "      <td>-0.868238</td>\n",
       "      <td>-0.319911</td>\n",
       "    </tr>\n",
       "    <tr>\n",
       "      <th>4</th>\n",
       "      <td>-0.073447</td>\n",
       "      <td>-0.100607</td>\n",
       "      <td>-0.738113</td>\n",
       "      <td>1.229976</td>\n",
       "    </tr>\n",
       "    <tr>\n",
       "      <th>5</th>\n",
       "      <td>0.212053</td>\n",
       "      <td>2.212650</td>\n",
       "      <td>0.165903</td>\n",
       "      <td>-0.718352</td>\n",
       "    </tr>\n",
       "    <tr>\n",
       "      <th>6</th>\n",
       "      <td>0.645284</td>\n",
       "      <td>1.562707</td>\n",
       "      <td>0.461718</td>\n",
       "      <td>-0.761418</td>\n",
       "    </tr>\n",
       "    <tr>\n",
       "      <th>7</th>\n",
       "      <td>-0.266184</td>\n",
       "      <td>-0.183467</td>\n",
       "      <td>-0.660879</td>\n",
       "      <td>0.085153</td>\n",
       "    </tr>\n",
       "  </tbody>\n",
       "</table>\n",
       "</div>"
      ],
      "text/plain": [
       "          A         B         C         D\n",
       "0 -1.269639 -1.402586 -0.256802  0.814172\n",
       "1  0.507144 -0.296429  0.368346 -0.180981\n",
       "2 -0.754237  0.198444  0.114201 -0.487529\n",
       "3  0.437370 -0.254240 -0.868238 -0.319911\n",
       "4 -0.073447 -0.100607 -0.738113  1.229976\n",
       "5  0.212053  2.212650  0.165903 -0.718352\n",
       "6  0.645284  1.562707  0.461718 -0.761418\n",
       "7 -0.266184 -0.183467 -0.660879  0.085153"
      ]
     },
     "execution_count": 104,
     "metadata": {},
     "output_type": "execute_result"
    }
   ],
   "source": [
    "df.iloc[:,:]"
   ]
  },
  {
   "cell_type": "code",
   "execution_count": 105,
   "id": "94176559",
   "metadata": {},
   "outputs": [
    {
     "data": {
      "text/html": [
       "<div>\n",
       "<style scoped>\n",
       "    .dataframe tbody tr th:only-of-type {\n",
       "        vertical-align: middle;\n",
       "    }\n",
       "\n",
       "    .dataframe tbody tr th {\n",
       "        vertical-align: top;\n",
       "    }\n",
       "\n",
       "    .dataframe thead th {\n",
       "        text-align: right;\n",
       "    }\n",
       "</style>\n",
       "<table border=\"1\" class=\"dataframe\">\n",
       "  <thead>\n",
       "    <tr style=\"text-align: right;\">\n",
       "      <th></th>\n",
       "      <th>A</th>\n",
       "      <th>B</th>\n",
       "    </tr>\n",
       "  </thead>\n",
       "  <tbody>\n",
       "    <tr>\n",
       "      <th>0</th>\n",
       "      <td>-1.269639</td>\n",
       "      <td>-1.402586</td>\n",
       "    </tr>\n",
       "    <tr>\n",
       "      <th>1</th>\n",
       "      <td>0.507144</td>\n",
       "      <td>-0.296429</td>\n",
       "    </tr>\n",
       "    <tr>\n",
       "      <th>2</th>\n",
       "      <td>-0.754237</td>\n",
       "      <td>0.198444</td>\n",
       "    </tr>\n",
       "    <tr>\n",
       "      <th>3</th>\n",
       "      <td>0.437370</td>\n",
       "      <td>-0.254240</td>\n",
       "    </tr>\n",
       "    <tr>\n",
       "      <th>4</th>\n",
       "      <td>-0.073447</td>\n",
       "      <td>-0.100607</td>\n",
       "    </tr>\n",
       "    <tr>\n",
       "      <th>5</th>\n",
       "      <td>0.212053</td>\n",
       "      <td>2.212650</td>\n",
       "    </tr>\n",
       "  </tbody>\n",
       "</table>\n",
       "</div>"
      ],
      "text/plain": [
       "          A         B\n",
       "0 -1.269639 -1.402586\n",
       "1  0.507144 -0.296429\n",
       "2 -0.754237  0.198444\n",
       "3  0.437370 -0.254240\n",
       "4 -0.073447 -0.100607\n",
       "5  0.212053  2.212650"
      ]
     },
     "execution_count": 105,
     "metadata": {},
     "output_type": "execute_result"
    }
   ],
   "source": [
    "df.iloc[:6,:2]"
   ]
  },
  {
   "cell_type": "markdown",
   "id": "a23613d5",
   "metadata": {},
   "source": [
    "Negeative indexing"
   ]
  },
  {
   "cell_type": "code",
   "execution_count": 106,
   "id": "051b83aa",
   "metadata": {},
   "outputs": [
    {
     "data": {
      "text/html": [
       "<div>\n",
       "<style scoped>\n",
       "    .dataframe tbody tr th:only-of-type {\n",
       "        vertical-align: middle;\n",
       "    }\n",
       "\n",
       "    .dataframe tbody tr th {\n",
       "        vertical-align: top;\n",
       "    }\n",
       "\n",
       "    .dataframe thead th {\n",
       "        text-align: right;\n",
       "    }\n",
       "</style>\n",
       "<table border=\"1\" class=\"dataframe\">\n",
       "  <thead>\n",
       "    <tr style=\"text-align: right;\">\n",
       "      <th></th>\n",
       "      <th>A</th>\n",
       "      <th>B</th>\n",
       "      <th>C</th>\n",
       "      <th>D</th>\n",
       "    </tr>\n",
       "  </thead>\n",
       "  <tbody>\n",
       "    <tr>\n",
       "      <th>0</th>\n",
       "      <td>-1.269639</td>\n",
       "      <td>-1.402586</td>\n",
       "      <td>-0.256802</td>\n",
       "      <td>0.814172</td>\n",
       "    </tr>\n",
       "    <tr>\n",
       "      <th>1</th>\n",
       "      <td>0.507144</td>\n",
       "      <td>-0.296429</td>\n",
       "      <td>0.368346</td>\n",
       "      <td>-0.180981</td>\n",
       "    </tr>\n",
       "    <tr>\n",
       "      <th>2</th>\n",
       "      <td>-0.754237</td>\n",
       "      <td>0.198444</td>\n",
       "      <td>0.114201</td>\n",
       "      <td>-0.487529</td>\n",
       "    </tr>\n",
       "    <tr>\n",
       "      <th>3</th>\n",
       "      <td>0.437370</td>\n",
       "      <td>-0.254240</td>\n",
       "      <td>-0.868238</td>\n",
       "      <td>-0.319911</td>\n",
       "    </tr>\n",
       "    <tr>\n",
       "      <th>4</th>\n",
       "      <td>-0.073447</td>\n",
       "      <td>-0.100607</td>\n",
       "      <td>-0.738113</td>\n",
       "      <td>1.229976</td>\n",
       "    </tr>\n",
       "    <tr>\n",
       "      <th>5</th>\n",
       "      <td>0.212053</td>\n",
       "      <td>2.212650</td>\n",
       "      <td>0.165903</td>\n",
       "      <td>-0.718352</td>\n",
       "    </tr>\n",
       "    <tr>\n",
       "      <th>6</th>\n",
       "      <td>0.645284</td>\n",
       "      <td>1.562707</td>\n",
       "      <td>0.461718</td>\n",
       "      <td>-0.761418</td>\n",
       "    </tr>\n",
       "    <tr>\n",
       "      <th>7</th>\n",
       "      <td>-0.266184</td>\n",
       "      <td>-0.183467</td>\n",
       "      <td>-0.660879</td>\n",
       "      <td>0.085153</td>\n",
       "    </tr>\n",
       "  </tbody>\n",
       "</table>\n",
       "</div>"
      ],
      "text/plain": [
       "          A         B         C         D\n",
       "0 -1.269639 -1.402586 -0.256802  0.814172\n",
       "1  0.507144 -0.296429  0.368346 -0.180981\n",
       "2 -0.754237  0.198444  0.114201 -0.487529\n",
       "3  0.437370 -0.254240 -0.868238 -0.319911\n",
       "4 -0.073447 -0.100607 -0.738113  1.229976\n",
       "5  0.212053  2.212650  0.165903 -0.718352\n",
       "6  0.645284  1.562707  0.461718 -0.761418\n",
       "7 -0.266184 -0.183467 -0.660879  0.085153"
      ]
     },
     "execution_count": 106,
     "metadata": {},
     "output_type": "execute_result"
    }
   ],
   "source": [
    "df.iloc[:,:]"
   ]
  },
  {
   "cell_type": "code",
   "execution_count": 107,
   "id": "219f6614",
   "metadata": {},
   "outputs": [
    {
     "data": {
      "text/plain": [
       "0    0.814172\n",
       "1   -0.180981\n",
       "2   -0.487529\n",
       "3   -0.319911\n",
       "4    1.229976\n",
       "5   -0.718352\n",
       "6   -0.761418\n",
       "7    0.085153\n",
       "Name: D, dtype: float64"
      ]
     },
     "execution_count": 107,
     "metadata": {},
     "output_type": "execute_result"
    }
   ],
   "source": [
    "df.iloc[:,-1]"
   ]
  },
  {
   "cell_type": "code",
   "execution_count": 108,
   "id": "6afb3e60",
   "metadata": {},
   "outputs": [
    {
     "data": {
      "text/plain": [
       "0   -0.256802\n",
       "1    0.368346\n",
       "2    0.114201\n",
       "3   -0.868238\n",
       "4   -0.738113\n",
       "5    0.165903\n",
       "6    0.461718\n",
       "7   -0.660879\n",
       "Name: C, dtype: float64"
      ]
     },
     "execution_count": 108,
     "metadata": {},
     "output_type": "execute_result"
    }
   ],
   "source": [
    "df.iloc[:,-2]"
   ]
  },
  {
   "cell_type": "code",
   "execution_count": 109,
   "id": "66a25967",
   "metadata": {},
   "outputs": [
    {
     "data": {
      "text/plain": [
       "0   -1.402586\n",
       "1   -0.296429\n",
       "2    0.198444\n",
       "3   -0.254240\n",
       "4   -0.100607\n",
       "5    2.212650\n",
       "6    1.562707\n",
       "7   -0.183467\n",
       "Name: B, dtype: float64"
      ]
     },
     "execution_count": 109,
     "metadata": {},
     "output_type": "execute_result"
    }
   ],
   "source": [
    "df.iloc[:,-3]"
   ]
  },
  {
   "cell_type": "code",
   "execution_count": 110,
   "id": "d715381d",
   "metadata": {},
   "outputs": [
    {
     "data": {
      "text/plain": [
       "0   -1.269639\n",
       "1    0.507144\n",
       "2   -0.754237\n",
       "3    0.437370\n",
       "4   -0.073447\n",
       "5    0.212053\n",
       "6    0.645284\n",
       "7   -0.266184\n",
       "Name: A, dtype: float64"
      ]
     },
     "execution_count": 110,
     "metadata": {},
     "output_type": "execute_result"
    }
   ],
   "source": [
    "df.iloc[:,-4]"
   ]
  },
  {
   "cell_type": "markdown",
   "id": "f4475f9e",
   "metadata": {},
   "source": [
    "Negative slicing"
   ]
  },
  {
   "cell_type": "code",
   "execution_count": 111,
   "id": "0e23e70b",
   "metadata": {},
   "outputs": [
    {
     "data": {
      "text/html": [
       "<div>\n",
       "<style scoped>\n",
       "    .dataframe tbody tr th:only-of-type {\n",
       "        vertical-align: middle;\n",
       "    }\n",
       "\n",
       "    .dataframe tbody tr th {\n",
       "        vertical-align: top;\n",
       "    }\n",
       "\n",
       "    .dataframe thead th {\n",
       "        text-align: right;\n",
       "    }\n",
       "</style>\n",
       "<table border=\"1\" class=\"dataframe\">\n",
       "  <thead>\n",
       "    <tr style=\"text-align: right;\">\n",
       "      <th></th>\n",
       "      <th>A</th>\n",
       "      <th>B</th>\n",
       "      <th>C</th>\n",
       "    </tr>\n",
       "  </thead>\n",
       "  <tbody>\n",
       "    <tr>\n",
       "      <th>0</th>\n",
       "      <td>-1.269639</td>\n",
       "      <td>-1.402586</td>\n",
       "      <td>-0.256802</td>\n",
       "    </tr>\n",
       "    <tr>\n",
       "      <th>1</th>\n",
       "      <td>0.507144</td>\n",
       "      <td>-0.296429</td>\n",
       "      <td>0.368346</td>\n",
       "    </tr>\n",
       "    <tr>\n",
       "      <th>2</th>\n",
       "      <td>-0.754237</td>\n",
       "      <td>0.198444</td>\n",
       "      <td>0.114201</td>\n",
       "    </tr>\n",
       "    <tr>\n",
       "      <th>3</th>\n",
       "      <td>0.437370</td>\n",
       "      <td>-0.254240</td>\n",
       "      <td>-0.868238</td>\n",
       "    </tr>\n",
       "    <tr>\n",
       "      <th>4</th>\n",
       "      <td>-0.073447</td>\n",
       "      <td>-0.100607</td>\n",
       "      <td>-0.738113</td>\n",
       "    </tr>\n",
       "    <tr>\n",
       "      <th>5</th>\n",
       "      <td>0.212053</td>\n",
       "      <td>2.212650</td>\n",
       "      <td>0.165903</td>\n",
       "    </tr>\n",
       "    <tr>\n",
       "      <th>6</th>\n",
       "      <td>0.645284</td>\n",
       "      <td>1.562707</td>\n",
       "      <td>0.461718</td>\n",
       "    </tr>\n",
       "    <tr>\n",
       "      <th>7</th>\n",
       "      <td>-0.266184</td>\n",
       "      <td>-0.183467</td>\n",
       "      <td>-0.660879</td>\n",
       "    </tr>\n",
       "  </tbody>\n",
       "</table>\n",
       "</div>"
      ],
      "text/plain": [
       "          A         B         C\n",
       "0 -1.269639 -1.402586 -0.256802\n",
       "1  0.507144 -0.296429  0.368346\n",
       "2 -0.754237  0.198444  0.114201\n",
       "3  0.437370 -0.254240 -0.868238\n",
       "4 -0.073447 -0.100607 -0.738113\n",
       "5  0.212053  2.212650  0.165903\n",
       "6  0.645284  1.562707  0.461718\n",
       "7 -0.266184 -0.183467 -0.660879"
      ]
     },
     "execution_count": 111,
     "metadata": {},
     "output_type": "execute_result"
    }
   ],
   "source": [
    "df.iloc[:,-4:-1]"
   ]
  },
  {
   "cell_type": "code",
   "execution_count": 112,
   "id": "92c51219",
   "metadata": {},
   "outputs": [
    {
     "data": {
      "text/html": [
       "<div>\n",
       "<style scoped>\n",
       "    .dataframe tbody tr th:only-of-type {\n",
       "        vertical-align: middle;\n",
       "    }\n",
       "\n",
       "    .dataframe tbody tr th {\n",
       "        vertical-align: top;\n",
       "    }\n",
       "\n",
       "    .dataframe thead th {\n",
       "        text-align: right;\n",
       "    }\n",
       "</style>\n",
       "<table border=\"1\" class=\"dataframe\">\n",
       "  <thead>\n",
       "    <tr style=\"text-align: right;\">\n",
       "      <th></th>\n",
       "      <th>A</th>\n",
       "      <th>B</th>\n",
       "    </tr>\n",
       "  </thead>\n",
       "  <tbody>\n",
       "    <tr>\n",
       "      <th>0</th>\n",
       "      <td>-1.269639</td>\n",
       "      <td>-1.402586</td>\n",
       "    </tr>\n",
       "    <tr>\n",
       "      <th>1</th>\n",
       "      <td>0.507144</td>\n",
       "      <td>-0.296429</td>\n",
       "    </tr>\n",
       "    <tr>\n",
       "      <th>2</th>\n",
       "      <td>-0.754237</td>\n",
       "      <td>0.198444</td>\n",
       "    </tr>\n",
       "    <tr>\n",
       "      <th>3</th>\n",
       "      <td>0.437370</td>\n",
       "      <td>-0.254240</td>\n",
       "    </tr>\n",
       "    <tr>\n",
       "      <th>4</th>\n",
       "      <td>-0.073447</td>\n",
       "      <td>-0.100607</td>\n",
       "    </tr>\n",
       "    <tr>\n",
       "      <th>5</th>\n",
       "      <td>0.212053</td>\n",
       "      <td>2.212650</td>\n",
       "    </tr>\n",
       "    <tr>\n",
       "      <th>6</th>\n",
       "      <td>0.645284</td>\n",
       "      <td>1.562707</td>\n",
       "    </tr>\n",
       "    <tr>\n",
       "      <th>7</th>\n",
       "      <td>-0.266184</td>\n",
       "      <td>-0.183467</td>\n",
       "    </tr>\n",
       "  </tbody>\n",
       "</table>\n",
       "</div>"
      ],
      "text/plain": [
       "          A         B\n",
       "0 -1.269639 -1.402586\n",
       "1  0.507144 -0.296429\n",
       "2 -0.754237  0.198444\n",
       "3  0.437370 -0.254240\n",
       "4 -0.073447 -0.100607\n",
       "5  0.212053  2.212650\n",
       "6  0.645284  1.562707\n",
       "7 -0.266184 -0.183467"
      ]
     },
     "execution_count": 112,
     "metadata": {},
     "output_type": "execute_result"
    }
   ],
   "source": [
    "df.iloc[:,-4:-2]"
   ]
  },
  {
   "cell_type": "code",
   "execution_count": 113,
   "id": "bd084862",
   "metadata": {},
   "outputs": [
    {
     "data": {
      "text/html": [
       "<div>\n",
       "<style scoped>\n",
       "    .dataframe tbody tr th:only-of-type {\n",
       "        vertical-align: middle;\n",
       "    }\n",
       "\n",
       "    .dataframe tbody tr th {\n",
       "        vertical-align: top;\n",
       "    }\n",
       "\n",
       "    .dataframe thead th {\n",
       "        text-align: right;\n",
       "    }\n",
       "</style>\n",
       "<table border=\"1\" class=\"dataframe\">\n",
       "  <thead>\n",
       "    <tr style=\"text-align: right;\">\n",
       "      <th></th>\n",
       "      <th>A</th>\n",
       "      <th>B</th>\n",
       "      <th>C</th>\n",
       "      <th>D</th>\n",
       "    </tr>\n",
       "  </thead>\n",
       "  <tbody>\n",
       "    <tr>\n",
       "      <th>0</th>\n",
       "      <td>-1.269639</td>\n",
       "      <td>-1.402586</td>\n",
       "      <td>-0.256802</td>\n",
       "      <td>0.814172</td>\n",
       "    </tr>\n",
       "    <tr>\n",
       "      <th>1</th>\n",
       "      <td>0.507144</td>\n",
       "      <td>-0.296429</td>\n",
       "      <td>0.368346</td>\n",
       "      <td>-0.180981</td>\n",
       "    </tr>\n",
       "    <tr>\n",
       "      <th>2</th>\n",
       "      <td>-0.754237</td>\n",
       "      <td>0.198444</td>\n",
       "      <td>0.114201</td>\n",
       "      <td>-0.487529</td>\n",
       "    </tr>\n",
       "    <tr>\n",
       "      <th>3</th>\n",
       "      <td>0.437370</td>\n",
       "      <td>-0.254240</td>\n",
       "      <td>-0.868238</td>\n",
       "      <td>-0.319911</td>\n",
       "    </tr>\n",
       "    <tr>\n",
       "      <th>4</th>\n",
       "      <td>-0.073447</td>\n",
       "      <td>-0.100607</td>\n",
       "      <td>-0.738113</td>\n",
       "      <td>1.229976</td>\n",
       "    </tr>\n",
       "    <tr>\n",
       "      <th>5</th>\n",
       "      <td>0.212053</td>\n",
       "      <td>2.212650</td>\n",
       "      <td>0.165903</td>\n",
       "      <td>-0.718352</td>\n",
       "    </tr>\n",
       "    <tr>\n",
       "      <th>6</th>\n",
       "      <td>0.645284</td>\n",
       "      <td>1.562707</td>\n",
       "      <td>0.461718</td>\n",
       "      <td>-0.761418</td>\n",
       "    </tr>\n",
       "    <tr>\n",
       "      <th>7</th>\n",
       "      <td>-0.266184</td>\n",
       "      <td>-0.183467</td>\n",
       "      <td>-0.660879</td>\n",
       "      <td>0.085153</td>\n",
       "    </tr>\n",
       "  </tbody>\n",
       "</table>\n",
       "</div>"
      ],
      "text/plain": [
       "          A         B         C         D\n",
       "0 -1.269639 -1.402586 -0.256802  0.814172\n",
       "1  0.507144 -0.296429  0.368346 -0.180981\n",
       "2 -0.754237  0.198444  0.114201 -0.487529\n",
       "3  0.437370 -0.254240 -0.868238 -0.319911\n",
       "4 -0.073447 -0.100607 -0.738113  1.229976\n",
       "5  0.212053  2.212650  0.165903 -0.718352\n",
       "6  0.645284  1.562707  0.461718 -0.761418\n",
       "7 -0.266184 -0.183467 -0.660879  0.085153"
      ]
     },
     "execution_count": 113,
     "metadata": {},
     "output_type": "execute_result"
    }
   ],
   "source": [
    "df.iloc[:,-4:]"
   ]
  },
  {
   "cell_type": "code",
   "execution_count": 114,
   "id": "59d93144",
   "metadata": {},
   "outputs": [
    {
     "data": {
      "text/html": [
       "<div>\n",
       "<style scoped>\n",
       "    .dataframe tbody tr th:only-of-type {\n",
       "        vertical-align: middle;\n",
       "    }\n",
       "\n",
       "    .dataframe tbody tr th {\n",
       "        vertical-align: top;\n",
       "    }\n",
       "\n",
       "    .dataframe thead th {\n",
       "        text-align: right;\n",
       "    }\n",
       "</style>\n",
       "<table border=\"1\" class=\"dataframe\">\n",
       "  <thead>\n",
       "    <tr style=\"text-align: right;\">\n",
       "      <th></th>\n",
       "      <th>A</th>\n",
       "      <th>B</th>\n",
       "      <th>C</th>\n",
       "    </tr>\n",
       "  </thead>\n",
       "  <tbody>\n",
       "    <tr>\n",
       "      <th>0</th>\n",
       "      <td>-1.269639</td>\n",
       "      <td>-1.402586</td>\n",
       "      <td>-0.256802</td>\n",
       "    </tr>\n",
       "    <tr>\n",
       "      <th>1</th>\n",
       "      <td>0.507144</td>\n",
       "      <td>-0.296429</td>\n",
       "      <td>0.368346</td>\n",
       "    </tr>\n",
       "    <tr>\n",
       "      <th>2</th>\n",
       "      <td>-0.754237</td>\n",
       "      <td>0.198444</td>\n",
       "      <td>0.114201</td>\n",
       "    </tr>\n",
       "    <tr>\n",
       "      <th>3</th>\n",
       "      <td>0.437370</td>\n",
       "      <td>-0.254240</td>\n",
       "      <td>-0.868238</td>\n",
       "    </tr>\n",
       "    <tr>\n",
       "      <th>4</th>\n",
       "      <td>-0.073447</td>\n",
       "      <td>-0.100607</td>\n",
       "      <td>-0.738113</td>\n",
       "    </tr>\n",
       "    <tr>\n",
       "      <th>5</th>\n",
       "      <td>0.212053</td>\n",
       "      <td>2.212650</td>\n",
       "      <td>0.165903</td>\n",
       "    </tr>\n",
       "    <tr>\n",
       "      <th>6</th>\n",
       "      <td>0.645284</td>\n",
       "      <td>1.562707</td>\n",
       "      <td>0.461718</td>\n",
       "    </tr>\n",
       "    <tr>\n",
       "      <th>7</th>\n",
       "      <td>-0.266184</td>\n",
       "      <td>-0.183467</td>\n",
       "      <td>-0.660879</td>\n",
       "    </tr>\n",
       "  </tbody>\n",
       "</table>\n",
       "</div>"
      ],
      "text/plain": [
       "          A         B         C\n",
       "0 -1.269639 -1.402586 -0.256802\n",
       "1  0.507144 -0.296429  0.368346\n",
       "2 -0.754237  0.198444  0.114201\n",
       "3  0.437370 -0.254240 -0.868238\n",
       "4 -0.073447 -0.100607 -0.738113\n",
       "5  0.212053  2.212650  0.165903\n",
       "6  0.645284  1.562707  0.461718\n",
       "7 -0.266184 -0.183467 -0.660879"
      ]
     },
     "execution_count": 114,
     "metadata": {},
     "output_type": "execute_result"
    }
   ],
   "source": [
    "df.iloc[:,:-1]"
   ]
  },
  {
   "cell_type": "code",
   "execution_count": 115,
   "id": "aaf422a7",
   "metadata": {},
   "outputs": [
    {
     "data": {
      "text/html": [
       "<div>\n",
       "<style scoped>\n",
       "    .dataframe tbody tr th:only-of-type {\n",
       "        vertical-align: middle;\n",
       "    }\n",
       "\n",
       "    .dataframe tbody tr th {\n",
       "        vertical-align: top;\n",
       "    }\n",
       "\n",
       "    .dataframe thead th {\n",
       "        text-align: right;\n",
       "    }\n",
       "</style>\n",
       "<table border=\"1\" class=\"dataframe\">\n",
       "  <thead>\n",
       "    <tr style=\"text-align: right;\">\n",
       "      <th></th>\n",
       "    </tr>\n",
       "  </thead>\n",
       "  <tbody>\n",
       "    <tr>\n",
       "      <th>0</th>\n",
       "    </tr>\n",
       "    <tr>\n",
       "      <th>1</th>\n",
       "    </tr>\n",
       "    <tr>\n",
       "      <th>2</th>\n",
       "    </tr>\n",
       "    <tr>\n",
       "      <th>3</th>\n",
       "    </tr>\n",
       "    <tr>\n",
       "      <th>4</th>\n",
       "    </tr>\n",
       "    <tr>\n",
       "      <th>5</th>\n",
       "    </tr>\n",
       "    <tr>\n",
       "      <th>6</th>\n",
       "    </tr>\n",
       "    <tr>\n",
       "      <th>7</th>\n",
       "    </tr>\n",
       "  </tbody>\n",
       "</table>\n",
       "</div>"
      ],
      "text/plain": [
       "Empty DataFrame\n",
       "Columns: []\n",
       "Index: [0, 1, 2, 3, 4, 5, 6, 7]"
      ]
     },
     "execution_count": 115,
     "metadata": {},
     "output_type": "execute_result"
    }
   ],
   "source": [
    "# it is row entry alway entere start is higer number : end with lower number\n",
    "df.iloc[:,-1:-4]"
   ]
  },
  {
   "cell_type": "code",
   "execution_count": 116,
   "id": "29855427",
   "metadata": {},
   "outputs": [
    {
     "data": {
      "text/html": [
       "<div>\n",
       "<style scoped>\n",
       "    .dataframe tbody tr th:only-of-type {\n",
       "        vertical-align: middle;\n",
       "    }\n",
       "\n",
       "    .dataframe tbody tr th {\n",
       "        vertical-align: top;\n",
       "    }\n",
       "\n",
       "    .dataframe thead th {\n",
       "        text-align: right;\n",
       "    }\n",
       "</style>\n",
       "<table border=\"1\" class=\"dataframe\">\n",
       "  <thead>\n",
       "    <tr style=\"text-align: right;\">\n",
       "      <th></th>\n",
       "      <th>C</th>\n",
       "      <th>D</th>\n",
       "    </tr>\n",
       "  </thead>\n",
       "  <tbody>\n",
       "    <tr>\n",
       "      <th>1</th>\n",
       "      <td>0.368346</td>\n",
       "      <td>-0.180981</td>\n",
       "    </tr>\n",
       "    <tr>\n",
       "      <th>2</th>\n",
       "      <td>0.114201</td>\n",
       "      <td>-0.487529</td>\n",
       "    </tr>\n",
       "    <tr>\n",
       "      <th>3</th>\n",
       "      <td>-0.868238</td>\n",
       "      <td>-0.319911</td>\n",
       "    </tr>\n",
       "    <tr>\n",
       "      <th>4</th>\n",
       "      <td>-0.738113</td>\n",
       "      <td>1.229976</td>\n",
       "    </tr>\n",
       "  </tbody>\n",
       "</table>\n",
       "</div>"
      ],
      "text/plain": [
       "          C         D\n",
       "1  0.368346 -0.180981\n",
       "2  0.114201 -0.487529\n",
       "3 -0.868238 -0.319911\n",
       "4 -0.738113  1.229976"
      ]
     },
     "execution_count": 116,
     "metadata": {},
     "output_type": "execute_result"
    }
   ],
   "source": [
    "df.iloc[1:5,2:4]"
   ]
  },
  {
   "cell_type": "code",
   "execution_count": 117,
   "id": "b679ae68",
   "metadata": {},
   "outputs": [
    {
     "data": {
      "text/html": [
       "<div>\n",
       "<style scoped>\n",
       "    .dataframe tbody tr th:only-of-type {\n",
       "        vertical-align: middle;\n",
       "    }\n",
       "\n",
       "    .dataframe tbody tr th {\n",
       "        vertical-align: top;\n",
       "    }\n",
       "\n",
       "    .dataframe thead th {\n",
       "        text-align: right;\n",
       "    }\n",
       "</style>\n",
       "<table border=\"1\" class=\"dataframe\">\n",
       "  <thead>\n",
       "    <tr style=\"text-align: right;\">\n",
       "      <th></th>\n",
       "      <th>A</th>\n",
       "      <th>B</th>\n",
       "    </tr>\n",
       "  </thead>\n",
       "  <tbody>\n",
       "    <tr>\n",
       "      <th>2</th>\n",
       "      <td>-0.754237</td>\n",
       "      <td>0.198444</td>\n",
       "    </tr>\n",
       "    <tr>\n",
       "      <th>3</th>\n",
       "      <td>0.437370</td>\n",
       "      <td>-0.254240</td>\n",
       "    </tr>\n",
       "    <tr>\n",
       "      <th>4</th>\n",
       "      <td>-0.073447</td>\n",
       "      <td>-0.100607</td>\n",
       "    </tr>\n",
       "    <tr>\n",
       "      <th>5</th>\n",
       "      <td>0.212053</td>\n",
       "      <td>2.212650</td>\n",
       "    </tr>\n",
       "  </tbody>\n",
       "</table>\n",
       "</div>"
      ],
      "text/plain": [
       "          A         B\n",
       "2 -0.754237  0.198444\n",
       "3  0.437370 -0.254240\n",
       "4 -0.073447 -0.100607\n",
       "5  0.212053  2.212650"
      ]
     },
     "execution_count": 117,
     "metadata": {},
     "output_type": "execute_result"
    }
   ],
   "source": [
    "# Negative Index \n",
    "df.iloc[2:6,-4:-2]"
   ]
  },
  {
   "cell_type": "code",
   "execution_count": null,
   "id": "b53665f7",
   "metadata": {},
   "outputs": [],
   "source": []
  }
 ],
 "metadata": {
  "kernelspec": {
   "display_name": "Python 3 (ipykernel)",
   "language": "python",
   "name": "python3"
  },
  "language_info": {
   "codemirror_mode": {
    "name": "ipython",
    "version": 3
   },
   "file_extension": ".py",
   "mimetype": "text/x-python",
   "name": "python",
   "nbconvert_exporter": "python",
   "pygments_lexer": "ipython3",
   "version": "3.9.12"
  }
 },
 "nbformat": 4,
 "nbformat_minor": 5
}
